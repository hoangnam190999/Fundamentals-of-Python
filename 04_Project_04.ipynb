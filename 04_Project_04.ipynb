{
  "nbformat": 4,
  "nbformat_minor": 0,
  "metadata": {
    "colab": {
      "provenance": []
    },
    "kernelspec": {
      "name": "python3",
      "display_name": "Python 3"
    },
    "language_info": {
      "name": "python"
    }
  },
  "cells": [
    {
      "cell_type": "code",
      "execution_count": 1,
      "metadata": {
        "colab": {
          "base_uri": "https://localhost:8080/"
        },
        "id": "dlh-Th3Ftjjj",
        "outputId": "b0f1accb-10d3-48fb-cb44-d21835354dfc"
      },
      "outputs": [
        {
          "output_type": "stream",
          "name": "stdout",
          "text": [
            "Exercise 73_Page 13_Part a\n",
            "Hello python\n",
            "hello python\n",
            "HELLO PYTHON\n",
            "Hello Python\n",
            "hElLo pYtHOn\n"
          ]
        }
      ],
      "source": [
        "print(\"Exercise 73_Page 13_Part a\")\n",
        "\n",
        "s = \"HeLlO PyThoN\"\n",
        "\n",
        "print(s.capitalize())  # Capitalizes the first letter, makes the rest lowercase\n",
        "print(s.lower())       # Converts all characters to lowercase\n",
        "print(s.upper())       # Converts all characters to uppercase\n",
        "print(s.title())       # Capitalizes the first letter of each word\n",
        "print(s.swapcase())    # Swaps uppercase to lowercase and vice versa\n"
      ]
    },
    {
      "cell_type": "code",
      "source": [
        "print(\"Exercise 73_Page 13_Part b\")\n",
        "\n",
        "s = 'Hello Python'\n",
        "\n",
        "print(f\"The length of the string is {len(s)} characters\")\n",
        "print(f\"The number of 'o' characters in the string s is {s.count('o', 0, len(s))}\")\n",
        "print(\"The number of 'H' characters in the string s is\", s.count('H', 0, len(s)))\n",
        "print(\"The number of 'e' characters in the string s is\", s.count('e', 0, len(s)))\n",
        "print(\"The number of 'l' characters in the string s is\", s.count('l', 0, len(s)))\n",
        "print(\"The number of 'P' characters in the string s is\", s.count('P', 0, len(s)))\n",
        "print(\"The number of 'y' characters in the string s is\", s.count('y', 0, len(s)))\n",
        "print(\"The number of 't' characters in the string s is\", s.count('t', 0, len(s)))\n",
        "print(\"The number of 'n' characters in the string s is\", s.count('n', 0, len(s)))\n"
      ],
      "metadata": {
        "colab": {
          "base_uri": "https://localhost:8080/"
        },
        "id": "02fusVK6GavG",
        "outputId": "fe2ad25f-db41-4297-bf81-d498cf8ba133"
      },
      "execution_count": 2,
      "outputs": [
        {
          "output_type": "stream",
          "name": "stdout",
          "text": [
            "Exercise 73_Page 13_Part b\n",
            "The length of the string is 12 characters\n",
            "The number of 'o' characters in the string s is 2\n",
            "The number of 'H' characters in the string s is 1\n",
            "The number of 'e' characters in the string s is 1\n",
            "The number of 'l' characters in the string s is 2\n",
            "The number of 'P' characters in the string s is 1\n",
            "The number of 'y' characters in the string s is 1\n",
            "The number of 't' characters in the string s is 1\n",
            "The number of 'n' characters in the string s is 1\n"
          ]
        }
      ]
    },
    {
      "cell_type": "code",
      "source": [
        "print(\"Exercise 73_Page 13_Part b\")\n",
        "\n",
        "# Method 1:\n",
        "s = input(\"Please enter a string: \")\n",
        "kt = input(\"Please enter a character: \")\n",
        "count = 0\n",
        "for char in s:\n",
        "    if char == kt:\n",
        "        count += 1\n",
        "print(\"Character:\", kt, \"appears\", count, \"times\")\n",
        "\n",
        "# Method 2:\n",
        "# s = input(\"Please enter a string: \")\n",
        "# kt = input(\"Please enter a character: \")\n",
        "# print(\"Character:\", kt, \"appears\", s.count(kt, 0, len(s)), \"times\")"
      ],
      "metadata": {
        "colab": {
          "base_uri": "https://localhost:8080/"
        },
        "id": "j4Z-S3mAOgOU",
        "outputId": "0d47b138-1fec-4d07-eab7-1cbdcee6105b"
      },
      "execution_count": 3,
      "outputs": [
        {
          "output_type": "stream",
          "name": "stdout",
          "text": [
            "Exercise 73_Page 13_Part b\n",
            "Please enter a string: Material Science\n",
            "Please enter a character: e\n",
            "Character: e appears 3 times\n"
          ]
        }
      ]
    },
    {
      "cell_type": "code",
      "source": [
        "# Exercise 73_Part c\n",
        "s = input(\"Enter a string: \")\n",
        "count_ch = 0\n",
        "count_num = 0\n",
        "\n",
        "for ch in s:\n",
        "    if ch.isalpha():  # Checks if the character is a letter\n",
        "        count_ch += 1\n",
        "    elif ch.isdigit():  # Checks if the character is a digit\n",
        "        count_num += 1\n",
        "\n",
        "print(\"Number of alphabetic characters:\", count_ch)\n",
        "print(\"Number of numeric characters:\", count_num)"
      ],
      "metadata": {
        "colab": {
          "base_uri": "https://localhost:8080/"
        },
        "id": "6Z3WLBSgMxL9",
        "outputId": "791df5de-d56a-408e-e4df-04ca4a90a754"
      },
      "execution_count": 4,
      "outputs": [
        {
          "output_type": "stream",
          "name": "stdout",
          "text": [
            "Enter a string: machine learning\n",
            "Number of alphabetic characters: 15\n",
            "Number of numeric characters: 0\n"
          ]
        }
      ]
    },
    {
      "cell_type": "code",
      "source": [
        "# Exercise 73_Part e\n",
        "s = input(\"Enter a string: \")\n",
        "vowels = \"aeiouAEIOU\"\n",
        "vowel_count = 0\n",
        "consonant_count = 0\n",
        "\n",
        "for ch in s:\n",
        "    if ch.isalpha():  # Check if the character is a letter\n",
        "        if ch in vowels:  # Check if it's a vowel\n",
        "            vowel_count += 1\n",
        "        else:  # If it's not a vowel, it's a consonant\n",
        "            consonant_count += 1\n",
        "\n",
        "print(\"Number of vowels:\", vowel_count)\n",
        "print(\"Number of consonants:\", consonant_count)"
      ],
      "metadata": {
        "colab": {
          "base_uri": "https://localhost:8080/"
        },
        "id": "SH1e6xB-HIKt",
        "outputId": "4d085f24-6900-4d76-fbbd-ed6895680500"
      },
      "execution_count": 5,
      "outputs": [
        {
          "output_type": "stream",
          "name": "stdout",
          "text": [
            "Enter a string: electrocatalyst\n",
            "Number of vowels: 5\n",
            "Number of consonants: 10\n"
          ]
        }
      ]
    },
    {
      "cell_type": "code",
      "source": [
        "# Exercise 73_Part d\n",
        "s = input(\"Enter a string: \")\n",
        "capital_count = 0\n",
        "lowercase_count = 0\n",
        "\n",
        "for ch in s:\n",
        "    if ch.isupper():  # Checks if the character is uppercase\n",
        "        capital_count += 1\n",
        "    elif ch.islower():  # Checks if the character is lowercase\n",
        "        lowercase_count += 1\n",
        "\n",
        "print(\"Number of uppercase letters:\", capital_count)\n",
        "print(\"Number of lowercase letters:\", lowercase_count)"
      ],
      "metadata": {
        "colab": {
          "base_uri": "https://localhost:8080/"
        },
        "id": "eGTlGxG8MK2f",
        "outputId": "9d1ef3ff-106c-48af-d89e-cd376b949c04"
      },
      "execution_count": 7,
      "outputs": [
        {
          "output_type": "stream",
          "name": "stdout",
          "text": [
            "Enter a string: eNRR\n",
            "Number of uppercase letters: 3\n",
            "Number of lowercase letters: 1\n"
          ]
        }
      ]
    }
  ]
}