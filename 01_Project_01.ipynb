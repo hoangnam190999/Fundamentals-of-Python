{
  "nbformat": 4,
  "nbformat_minor": 0,
  "metadata": {
    "colab": {
      "provenance": []
    },
    "kernelspec": {
      "name": "python3",
      "display_name": "Python 3"
    },
    "language_info": {
      "name": "python"
    }
  },
  "cells": [
    {
      "cell_type": "code",
      "source": [
        "print('A:')\n",
        "print(\"* * * * *\\n\"*3)"
      ],
      "metadata": {
        "colab": {
          "base_uri": "https://localhost:8080/"
        },
        "id": "smt7He1263kC",
        "outputId": "5ec2ca19-98f6-4b19-dcad-076f6dbb3394"
      },
      "execution_count": 1,
      "outputs": [
        {
          "output_type": "stream",
          "name": "stdout",
          "text": [
            "A:\n",
            "* * * * *\n",
            "* * * * *\n",
            "* * * * *\n",
            "\n"
          ]
        }
      ]
    },
    {
      "cell_type": "code",
      "execution_count": 2,
      "metadata": {
        "colab": {
          "base_uri": "https://localhost:8080/"
        },
        "id": "URlFJTYG6Wzs",
        "outputId": "7972b480-40a1-49de-fedf-808d8c95d84a"
      },
      "outputs": [
        {
          "output_type": "stream",
          "name": "stdout",
          "text": [
            "Hello@@@World\n"
          ]
        }
      ],
      "source": [
        "#Ctrl+scroll -> zoom in and zoom out\n",
        "print(\"Hello\", end='@@@')     #end='': end with sth | eg: '\\n' ~ new line\n",
        "print(\"World\")"
      ]
    },
    {
      "cell_type": "code",
      "source": [
        "print(\"Hello world\")\n",
        "print(\"Hello\",\"world\")\n",
        "print(\"Hello\",\"world\",sep=\"~\") #sep:separator\n",
        "print(\"Hello \"*3)"
      ],
      "metadata": {
        "colab": {
          "base_uri": "https://localhost:8080/"
        },
        "id": "wKOG7bjF6pFi",
        "outputId": "5e806dc7-b169-4634-83c4-b2e97fe3630e"
      },
      "execution_count": 3,
      "outputs": [
        {
          "output_type": "stream",
          "name": "stdout",
          "text": [
            "Hello world\n",
            "Hello world\n",
            "Hello~world\n",
            "Hello Hello Hello \n"
          ]
        }
      ]
    },
    {
      "cell_type": "code",
      "source": [
        "print('B:')\n",
        "print(\"* * * * *\")\n",
        "print(\"*       *\")\n",
        "print(\"* * * * *\")"
      ],
      "metadata": {
        "colab": {
          "base_uri": "https://localhost:8080/"
        },
        "id": "pieqDIsu7TeG",
        "outputId": "aefc043c-e19a-4d5e-ddad-abd24244381d"
      },
      "execution_count": 4,
      "outputs": [
        {
          "output_type": "stream",
          "name": "stdout",
          "text": [
            "B:\n",
            "* * * * *\n",
            "*       *\n",
            "* * * * *\n"
          ]
        }
      ]
    },
    {
      "cell_type": "code",
      "source": [
        "print('C:')\n",
        "print(\"  *  *  \")\n",
        "print(\"*      *\\n\"*3,end='')\n",
        "print(\"  *  *  \")"
      ],
      "metadata": {
        "colab": {
          "base_uri": "https://localhost:8080/"
        },
        "id": "n1dGEOVX-BUl",
        "outputId": "8c935775-6564-4eee-8505-14dff45a85a7"
      },
      "execution_count": 5,
      "outputs": [
        {
          "output_type": "stream",
          "name": "stdout",
          "text": [
            "C:\n",
            "  *  *  \n",
            "*      *\n",
            "*      *\n",
            "*      *\n",
            "  *  *  \n"
          ]
        }
      ]
    },
    {
      "cell_type": "code",
      "source": [
        "print('D:')\n",
        "print(\"*  *  *  *  *\")\n",
        "print(\"   *  *  *   \\n\"*3,end='')\n",
        "print(\"*  *  *  *  *\")"
      ],
      "metadata": {
        "colab": {
          "base_uri": "https://localhost:8080/"
        },
        "id": "U4T7BVTv-B0B",
        "outputId": "336a42a7-9b4c-45c7-c7f5-b62783161fd1"
      },
      "execution_count": 6,
      "outputs": [
        {
          "output_type": "stream",
          "name": "stdout",
          "text": [
            "D:\n",
            "*  *  *  *  *\n",
            "   *  *  *   \n",
            "   *  *  *   \n",
            "   *  *  *   \n",
            "*  *  *  *  *\n"
          ]
        }
      ]
    },
    {
      "cell_type": "code",
      "source": [
        "#Vietnamese_practise\n",
        "print('''Que Huong\n",
        ". . .\n",
        "\\tQuê hương là chùm khế ngọt\n",
        "\\t\\tCho con trèo hái mỗi ngày\n",
        "\\t\\t\\tQuê hương là đường đi học\n",
        "\\t\\t\\t\\tCon về rợp bướm vàng bay\n",
        ". . .\n",
        "\\t\\t\\t\\t\\tGiáp Văn Thạch''')"
      ],
      "metadata": {
        "colab": {
          "base_uri": "https://localhost:8080/"
        },
        "id": "-mhs499K_GqE",
        "outputId": "2f19c459-77a0-486a-d0c9-7a3efe4d4615"
      },
      "execution_count": 7,
      "outputs": [
        {
          "output_type": "stream",
          "name": "stdout",
          "text": [
            "Que Huong\n",
            ". . .\n",
            "\tQuê hương là chùm khế ngọt\n",
            "\t\tCho con trèo hái mỗi ngày\n",
            "\t\t\tQuê hương là đường đi học\n",
            "\t\t\t\tCon về rợp bướm vàng bay\n",
            ". . .\n",
            "\t\t\t\t\tGiáp Văn Thạch\n"
          ]
        }
      ]
    },
    {
      "cell_type": "code",
      "source": [
        "print(\"4a\")\n",
        "a = eval(input(\"Enter a: \"))\n",
        "b = eval(input(\"Enter b: \"))\n",
        "print(\"The sum of a and b is: {} + {} = {}\".format(a, b, a + b))"
      ],
      "metadata": {
        "colab": {
          "base_uri": "https://localhost:8080/"
        },
        "id": "SxwJkcVYAJ_v",
        "outputId": "81645a63-f308-460b-c8c3-3680c55961b1"
      },
      "execution_count": 8,
      "outputs": [
        {
          "output_type": "stream",
          "name": "stdout",
          "text": [
            "4a\n",
            "Enter a: 1\n",
            "Enter b: 3\n",
            "The sum of a and b is: 1 + 3 = 4\n"
          ]
        }
      ]
    },
    {
      "cell_type": "code",
      "source": [
        "print(\"4b\")\n",
        "a, b = map(int, input(\"Enter two numbers separated by a space: \").split())\n",
        "print(\"The sum of a and b is: {} + {} = {}\".format(a, b, a + b))"
      ],
      "metadata": {
        "colab": {
          "base_uri": "https://localhost:8080/"
        },
        "id": "19N_u3SXAqwN",
        "outputId": "5135c021-45b8-43e2-9f43-ce78474226cc"
      },
      "execution_count": 9,
      "outputs": [
        {
          "output_type": "stream",
          "name": "stdout",
          "text": [
            "4b\n",
            "Enter two numbers separated by a space: 2 4\n",
            "The sum of a and b is: 2 + 4 = 6\n"
          ]
        }
      ]
    },
    {
      "cell_type": "code",
      "source": [
        "print(\"4b\")\n",
        "a, b = map(int, input(\"Enter two numbers separated by a space: \").split())\n",
        "print(\"The sum of a and b is: {} + {} = {}\".format(a, b, a + b))"
      ],
      "metadata": {
        "colab": {
          "base_uri": "https://localhost:8080/"
        },
        "id": "1tSVpc1nXWxx",
        "outputId": "6bf22b12-1c88-4176-a727-6d80650bfbb5"
      },
      "execution_count": 10,
      "outputs": [
        {
          "output_type": "stream",
          "name": "stdout",
          "text": [
            "4b\n",
            "Enter two numbers separated by a space: 2 3 \n",
            "The sum of a and b is: 2 + 3 = 5\n"
          ]
        }
      ]
    },
    {
      "cell_type": "code",
      "source": [
        "print(\"Exercise 5\")\n",
        "a, b = map(int, input(\"Enter two numbers separated by a space: \").split())\n",
        "print(\"The power a^b is: {} ^ {} = {}\".format(a, b, a**b))"
      ],
      "metadata": {
        "colab": {
          "base_uri": "https://localhost:8080/"
        },
        "id": "nyHhTXgWb8Xn",
        "outputId": "a5e430f5-8566-4aa9-d3b0-dc25b8afd64f"
      },
      "execution_count": 11,
      "outputs": [
        {
          "output_type": "stream",
          "name": "stdout",
          "text": [
            "Exercise 5\n",
            "Enter two numbers separated by a space: 1 2\n",
            "The power a^b is: 1 ^ 2 = 1\n"
          ]
        }
      ]
    },
    {
      "cell_type": "code",
      "source": [
        "a, b, c = map(int, input(\"Enter 3 integers separated by a space: \").split())\n",
        "largest = max(a, b, c)\n",
        "smallest = min(a, b, c)\n",
        "middle = a + b + c - largest - smallest\n",
        "print(\"{} {} {}\".format(smallest, middle, largest))"
      ],
      "metadata": {
        "colab": {
          "base_uri": "https://localhost:8080/"
        },
        "id": "eru6qdqPb6qu",
        "outputId": "ce6e5bf0-b632-458e-b4cd-8e60f66878a8"
      },
      "execution_count": 12,
      "outputs": [
        {
          "output_type": "stream",
          "name": "stdout",
          "text": [
            "Enter 3 integers separated by a space: 1 2 43\n",
            "1 2 43\n"
          ]
        }
      ]
    },
    {
      "cell_type": "code",
      "source": [
        "print('Exercise 9:')\n",
        "length, width, height = map(eval, input('Enter 3 numbers separated by a space: ').split())\n",
        "area = length * width\n",
        "volume = length * width * height\n",
        "decimals = 2\n",
        "print('Rectangle area = {0:.{1}f}cm\\u00b2'.format(area, decimals))\n",
        "print('Rectangle volume = {0:.{1}f}cm\\u00b3'.format(volume, decimals))"
      ],
      "metadata": {
        "colab": {
          "base_uri": "https://localhost:8080/"
        },
        "id": "IxXo7PPxcjY_",
        "outputId": "daa9134c-e17e-4dc0-997f-05cab4aea91d"
      },
      "execution_count": 14,
      "outputs": [
        {
          "output_type": "stream",
          "name": "stdout",
          "text": [
            "Exercise 9:\n",
            "Enter 3 numbers separated by a space: 2 3 1\n",
            "Rectangle area = 6.00cm²\n",
            "Rectangle volume = 6.00cm³\n"
          ]
        }
      ]
    },
    {
      "cell_type": "code",
      "source": [
        "print('Exercise 10:')\n",
        "m = int(input('Enter the number of months: '))\n",
        "print(f'The number of rabbits after {m} months is {2**(m+1)}')"
      ],
      "metadata": {
        "colab": {
          "base_uri": "https://localhost:8080/"
        },
        "id": "PL6pJRaTeWzi",
        "outputId": "0777cef5-8d49-4b9f-d3e4-3586b6397afc"
      },
      "execution_count": 15,
      "outputs": [
        {
          "output_type": "stream",
          "name": "stdout",
          "text": [
            "Exercise 10:\n",
            "Enter the number of months: 12\n",
            "The number of rabbits after 12 months is 8192\n"
          ]
        }
      ]
    },
    {
      "cell_type": "code",
      "source": [],
      "metadata": {
        "id": "uKKnMEP-Fvz_"
      },
      "execution_count": null,
      "outputs": []
    }
  ]
}