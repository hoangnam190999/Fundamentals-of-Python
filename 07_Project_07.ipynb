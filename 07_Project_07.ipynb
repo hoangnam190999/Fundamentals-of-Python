{
  "nbformat": 4,
  "nbformat_minor": 0,
  "metadata": {
    "colab": {
      "provenance": []
    },
    "kernelspec": {
      "name": "python3",
      "display_name": "Python 3"
    },
    "language_info": {
      "name": "python"
    }
  },
  "cells": [
    {
      "cell_type": "code",
      "execution_count": 1,
      "metadata": {
        "colab": {
          "base_uri": "https://localhost:8080/"
        },
        "id": "7BKcuU0Qdy_J",
        "outputId": "bde46cee-ec54-4018-baa6-1e4226193379"
      },
      "outputs": [
        {
          "output_type": "stream",
          "name": "stdout",
          "text": [
            "Enter an integer n: 234\n",
            "\n",
            "Method 1 (Using while loop):\n",
            "Sum of digits = 9\n",
            "Product of digits = 24\n",
            "\n",
            "Method 2 (Using for loop and string conversion):\n",
            "Sum of digits of 234 = 9\n",
            "Product of digits of 234 = 24\n"
          ]
        }
      ],
      "source": [
        "# Input: Get an integer from the user\n",
        "n = int(input(\"Enter an integer n: \"))\n",
        "original_n = n  # Store the original value of n for later use\n",
        "\n",
        "# Method 1: Using a while loop\n",
        "print(\"\\nMethod 1 (Using while loop):\")\n",
        "sum_digits = 0\n",
        "product_digits = 1\n",
        "\n",
        "while n > 0:\n",
        "    digit = n % 10  # Extract the last digit\n",
        "    n = n // 10  # Remove the last digit from n\n",
        "    sum_digits += digit\n",
        "    product_digits *= digit\n",
        "\n",
        "print(\"Sum of digits =\", sum_digits)\n",
        "print(\"Product of digits =\", product_digits)\n",
        "\n",
        "# Method 2: Using a for loop and string conversion\n",
        "n = original_n  # Restore the original value of n\n",
        "sum_digits = 0\n",
        "product_digits = 1\n",
        "\n",
        "print(\"\\nMethod 2 (Using for loop and string conversion):\")\n",
        "for digit in str(n):  # Convert n to a string and iterate over digits\n",
        "    sum_digits += int(digit)\n",
        "    product_digits *= int(digit)\n",
        "\n",
        "print(f\"Sum of digits of {original_n} =\", sum_digits)\n",
        "print(f\"Product of digits of {original_n} =\", product_digits)\n"
      ]
    },
    {
      "cell_type": "code",
      "source": [
        "# Input: Get an integer from the user\n",
        "n = int(input(\"Enter an integer n: \"))\n",
        "original_n = n  # Store the original value of n for later use\n",
        "\n",
        "# Method 1: Using a while loop\n",
        "print(\"\\nMethod 1 (Using while loop):\")\n",
        "temp = abs(n)  # Convert to absolute value to handle negative numbers\n",
        "max_digit = 0\n",
        "\n",
        "while temp > 0:\n",
        "    digit = temp % 10  # Extract the last digit\n",
        "    if digit > max_digit:\n",
        "        max_digit = digit  # Update the largest digit found\n",
        "    temp //= 10  # Remove the last digit from temp\n",
        "\n",
        "print(f\"The largest digit in {n} is: {max_digit}\")\n",
        "\n",
        "# Method 2: Using a for loop and string conversion\n",
        "n = original_n  # Restore the original value of n\n",
        "max_digit2 = 0\n",
        "\n",
        "print(\"\\nMethod 2 (Using for loop and string conversion):\")\n",
        "for digit in str(abs(n)):  # Convert n to a string and iterate over digits\n",
        "    if max_digit2 <= int(digit):\n",
        "        max_digit2 = int(digit)\n",
        "\n",
        "print(f\"The largest digit in {original_n} is: {max_digit2}\")\n"
      ],
      "metadata": {
        "colab": {
          "base_uri": "https://localhost:8080/"
        },
        "id": "7oXxFmf0e6eN",
        "outputId": "e5567728-9956-4fca-88fa-75861c1065b4"
      },
      "execution_count": 2,
      "outputs": [
        {
          "output_type": "stream",
          "name": "stdout",
          "text": [
            "Enter an integer n: 1234\n",
            "\n",
            "Method 1 (Using while loop):\n",
            "The largest digit in 1234 is: 4\n",
            "\n",
            "Method 2 (Using for loop and string conversion):\n",
            "The largest digit in 1234 is: 4\n"
          ]
        }
      ]
    },
    {
      "cell_type": "code",
      "source": [
        "# Input: Get a positive integer from the user\n",
        "n = int(input(\"Enter a positive integer n: \"))\n",
        "original_n = n  # Store the original number\n",
        "sum_digits = 0  # Sum of digits\n",
        "product_digits = 1  # Product of digits\n",
        "max_digit = 0  # Largest digit\n",
        "count_odd = 0  # Count of odd digits\n",
        "count_even = 0  # Count of even digits\n",
        "num_length = len(str(n))  # Number of digits\n",
        "\n",
        "# Processing the digits\n",
        "while n > 0:\n",
        "    digit = n % 10  # Extract the last digit\n",
        "    sum_digits += digit  # Add to sum\n",
        "    product_digits *= digit  # Multiply for product\n",
        "    if digit > max_digit:  # Check for the largest digit\n",
        "        max_digit = digit\n",
        "    if digit % 2 == 0:\n",
        "        count_even += 1  # Count even digits\n",
        "    else:\n",
        "        count_odd += 1  # Count odd digits\n",
        "    n //= 10  # Remove the last digit\n",
        "\n",
        "# Output results\n",
        "print(\"\\nPart (a):\")\n",
        "print(f\"Sum of the digits of {original_n}: {sum_digits}\")\n",
        "print(f\"Product of the digits of {original_n}: {product_digits}\")\n",
        "\n",
        "print(\"\\nPart (b):\")\n",
        "print(f\"Largest digit in {original_n}: {max_digit}\")\n",
        "\n",
        "print(\"\\nPart (c):\")\n",
        "print(f\"Number of odd digits in {original_n}: {count_odd}\")\n",
        "print(f\"Number of even digits in {original_n}: {count_even}\")\n",
        "\n",
        "print(\"\\nPart (d):\")\n",
        "if num_length == count_even:\n",
        "    print(\"The number contains only even digits.\")\n",
        "elif num_length == count_odd:\n",
        "    print(\"The number contains only odd digits.\")\n",
        "else:\n",
        "    print(\"The number contains both even and odd digits.\")\n"
      ],
      "metadata": {
        "colab": {
          "base_uri": "https://localhost:8080/"
        },
        "id": "i0FkGRcfj9mR",
        "outputId": "94b79e29-4391-4e50-c6ec-d99c7d48544f"
      },
      "execution_count": 3,
      "outputs": [
        {
          "output_type": "stream",
          "name": "stdout",
          "text": [
            "Enter a positive integer n: 123\n",
            "\n",
            "Part (a):\n",
            "Sum of the digits of 123: 6\n",
            "Product of the digits of 123: 6\n",
            "\n",
            "Part (b):\n",
            "Largest digit in 123: 3\n",
            "\n",
            "Part (c):\n",
            "Number of odd digits in 123: 2\n",
            "Number of even digits in 123: 1\n",
            "\n",
            "Part (d):\n",
            "The number contains both even and odd digits.\n"
          ]
        }
      ]
    },
    {
      "cell_type": "code",
      "source": [
        "print(\"Part (c):\")\n",
        "n = int(input(\"Enter a positive integer n: \"))\n",
        "count_even = 0\n",
        "count_odd = 0\n",
        "\n",
        "# Iterate through each digit in the number\n",
        "for digit in str(n):\n",
        "    if int(digit) % 2 == 0:\n",
        "        count_even += 1\n",
        "    else:\n",
        "        count_odd += 1\n",
        "\n",
        "# Output the results\n",
        "print(f\"Number of odd digits in {n}: {count_odd}\")\n",
        "print(f\"Number of even digits in {n}: {count_even}\")\n"
      ],
      "metadata": {
        "colab": {
          "base_uri": "https://localhost:8080/"
        },
        "id": "32agj4K8kKId",
        "outputId": "eaa6aa52-4855-41e6-8d4a-9eadf4dff947"
      },
      "execution_count": 4,
      "outputs": [
        {
          "output_type": "stream",
          "name": "stdout",
          "text": [
            "Part (c):\n",
            "Enter a positive integer n: 1234\n",
            "Number of odd digits in 1234: 2\n",
            "Number of even digits in 1234: 2\n"
          ]
        }
      ]
    },
    {
      "cell_type": "code",
      "source": [
        "# Part (c) - Method 2\n",
        "n = input(\"Enter n: \")\n",
        "\n",
        "# Counting odd and even digits\n",
        "count_even = sum(1 for digit in n if int(digit) % 2 == 0)\n",
        "count_odd = sum(1 for digit in n if int(digit) % 2 != 0)\n",
        "\n",
        "# Output the results\n",
        "print(f\"Number of odd digits: {count_odd}\")\n",
        "print(f\"Number of even digits: {count_even}\")\n"
      ],
      "metadata": {
        "id": "n9Q3gc1XuAsg",
        "colab": {
          "base_uri": "https://localhost:8080/"
        },
        "outputId": "86ec327c-b5cd-4bc6-b9f8-2c1f51343fd5"
      },
      "execution_count": 5,
      "outputs": [
        {
          "output_type": "stream",
          "name": "stdout",
          "text": [
            "Enter n: 1234\n",
            "Number of odd digits: 2\n",
            "Number of even digits: 2\n"
          ]
        }
      ]
    },
    {
      "cell_type": "code",
      "source": [
        "print(\"Part (d)\")\n",
        "\n",
        "# Input: Positive integer\n",
        "n = int(input(\"Enter a positive integer n: \"))\n",
        "\n",
        "# Determine the length of the number\n",
        "length = len(str(n))\n",
        "count_even = 0\n",
        "count_odd = 0\n",
        "\n",
        "# Count even and odd digits\n",
        "for digit in str(n):\n",
        "    if int(digit) % 2 == 0:\n",
        "        count_even += 1\n",
        "    else:\n",
        "        count_odd += 1\n",
        "\n",
        "# Check and print the result\n",
        "if length == count_even:\n",
        "    print(\"The number consists entirely of even digits.\")\n",
        "elif length == count_odd:\n",
        "    print(\"The number consists entirely of odd digits.\")\n",
        "else:\n",
        "    print(\"The number contains both even and odd digits!\")\n"
      ],
      "metadata": {
        "colab": {
          "base_uri": "https://localhost:8080/"
        },
        "id": "xFcPLUsPpR9D",
        "outputId": "7bfccee4-d613-45fd-ac26-80f52c92bf8d"
      },
      "execution_count": 6,
      "outputs": [
        {
          "output_type": "stream",
          "name": "stdout",
          "text": [
            "Part (d)\n",
            "Enter a positive integer n: 1234\n",
            "The number contains both even and odd digits!\n"
          ]
        }
      ]
    },
    {
      "cell_type": "code",
      "source": [
        "print(\"d_comprehension\")\n",
        "\n",
        "# Input: Read the number as a string\n",
        "n = input(\"Enter a number: \")\n",
        "\n",
        "# Check if all digits are even\n",
        "if sum(1 for digit in n if int(digit) % 2 == 0) == len(n):\n",
        "    print(f\"{n} consists entirely of even digits.\")\n",
        "# Check if all digits are odd\n",
        "elif sum(1 for digit in n if int(digit) % 2 != 0) == len(n):\n",
        "    print(f\"{n} consists entirely of odd digits.\")\n",
        "# Otherwise, it contains both even and odd digits\n",
        "else:\n",
        "    print(f\"{n} contains both even and odd digits.\")\n"
      ],
      "metadata": {
        "colab": {
          "base_uri": "https://localhost:8080/"
        },
        "id": "GPZF1goDsu6r",
        "outputId": "f6378db6-237b-4e01-b4b3-8f4bc2fae226"
      },
      "execution_count": 7,
      "outputs": [
        {
          "output_type": "stream",
          "name": "stdout",
          "text": [
            "d_comprehension\n",
            "Enter a number: 1234\n",
            "1234 contains both even and odd digits.\n"
          ]
        }
      ]
    },
    {
      "cell_type": "code",
      "source": [
        "print(\"Case e\")\n",
        "\n",
        "# Input: Read an integer from the user\n",
        "n = int(input(\"Enter a positive integer: \"))\n",
        "\n",
        "# Convert the number to a string for digit-wise comparison\n",
        "n_str = str(n)\n",
        "\n",
        "# Check if the sequence is increasing or decreasing\n",
        "is_increasing = True\n",
        "is_decreasing = True\n",
        "\n",
        "for i in range(len(n_str) - 1):\n",
        "    if n_str[i] > n_str[i + 1]:\n",
        "        is_increasing = False\n",
        "    if n_str[i] < n_str[i + 1]:\n",
        "        is_decreasing = False\n",
        "\n",
        "# Output results based on conditions\n",
        "if is_increasing:\n",
        "    print(\"The digits are in increasing order from left to right.\")\n",
        "elif is_decreasing:\n",
        "    print(\"The digits are in decreasing order from left to right.\")\n",
        "else:\n",
        "    print(\"The digits are unordered (mixed).\")\n"
      ],
      "metadata": {
        "colab": {
          "base_uri": "https://localhost:8080/"
        },
        "id": "zJ-QPGATpsgP",
        "outputId": "bfbe1aad-6ab3-48ee-a740-c2361dc15142"
      },
      "execution_count": 8,
      "outputs": [
        {
          "output_type": "stream",
          "name": "stdout",
          "text": [
            "Case e\n",
            "Enter a positive integer: 4325\n",
            "The digits are unordered (mixed).\n"
          ]
        }
      ]
    },
    {
      "cell_type": "code",
      "source": [
        "# Case E: Check if the number is increasing, decreasing, or mixed\n",
        "so = input(\"Enter a number: \")\n",
        "\n",
        "# Assume initially that the sequence is both increasing and decreasing\n",
        "is_decreasing = True\n",
        "is_increasing = True\n",
        "\n",
        "for i in range(len(so) - 1):\n",
        "    if so[i] < so[i + 1]:\n",
        "        is_decreasing = False  # If any digit is smaller than the next, it's not decreasing\n",
        "    elif so[i] > so[i + 1]:\n",
        "        is_increasing = False  # If any digit is greater than the next, it's not increasing\n",
        "\n",
        "# Print the result based on conditions\n",
        "if is_decreasing:\n",
        "    print(f\"{so} is in decreasing order.\")\n",
        "elif is_increasing:\n",
        "    print(f\"{so} is in increasing order.\")\n",
        "else:\n",
        "    print(f\"{so} is a mixed sequence.\")\n"
      ],
      "metadata": {
        "colab": {
          "base_uri": "https://localhost:8080/"
        },
        "id": "OKFwDLkTw8mK",
        "outputId": "c5dd83e0-b35d-4e13-9f40-bb2d058258d0"
      },
      "execution_count": 9,
      "outputs": [
        {
          "output_type": "stream",
          "name": "stdout",
          "text": [
            "Enter a number: 4321\n",
            "4321 is in decreasing order.\n"
          ]
        }
      ]
    },
    {
      "cell_type": "code",
      "source": [
        "# Question E: Check if the number is increasing, decreasing, or mixed using list comprehension\n",
        "\n",
        "S = input(\"Enter a positive integer: \")  # Example: S = 4279\n",
        "\n",
        "# Using `all()` to check if the digits are in increasing or decreasing order\n",
        "is_increasing = all(S[i] <= S[i + 1] for i in range(len(S) - 1))  # Check if each digit is ≤ the next\n",
        "is_decreasing = all(S[i] >= S[i + 1] for i in range(len(S) - 1))  # Check if each digit is ≥ the next\n",
        "\n",
        "# Determine and print the result\n",
        "if is_increasing:\n",
        "    print(f\"{S} is in increasing order.\")\n",
        "elif is_decreasing:\n",
        "    print(f\"{S} is in decreasing order.\")\n",
        "else:\n",
        "    print(f\"{S} is a mixed sequence.\")\n"
      ],
      "metadata": {
        "colab": {
          "base_uri": "https://localhost:8080/"
        },
        "id": "3kD4clhKq4l5",
        "outputId": "f69a19b8-8b14-4501-f9ec-6b499288b371"
      },
      "execution_count": 10,
      "outputs": [
        {
          "output_type": "stream",
          "name": "stdout",
          "text": [
            "Enter a positive integer: 1245\n",
            "1245 is in increasing order.\n"
          ]
        }
      ]
    },
    {
      "cell_type": "code",
      "source": [
        "def find_numbers_with_5(n):\n",
        "  \"\"\"\n",
        "  Finds all numbers less than n that contain the digit 5.\n",
        "\n",
        "  Args:\n",
        "    n: The upper limit.\n",
        "\n",
        "  Returns:\n",
        "    A list of numbers less than n that contain the digit 5.\n",
        "  \"\"\"\n",
        "  numbers_with_5 = []\n",
        "  for i in range(1, n):\n",
        "    if '5' in str(i):\n",
        "      numbers_with_5.append(i)\n",
        "  return numbers_with_5\n",
        "\n",
        "# Get input from the user\n",
        "n = int(input(\"Enter a number: \"))\n",
        "\n",
        "# Find the numbers\n",
        "numbers = find_numbers_with_5(n)\n",
        "\n",
        "# Print the numbers\n",
        "print(\"Numbers less than\", n, \"that contain the digit 5:\")\n",
        "print(numbers)"
      ],
      "metadata": {
        "colab": {
          "base_uri": "https://localhost:8080/"
        },
        "id": "rRy8vMlw3UNf",
        "outputId": "0aa1b600-1c1f-4215-da7d-a1dc2c6188f6"
      },
      "execution_count": null,
      "outputs": [
        {
          "output_type": "stream",
          "name": "stdout",
          "text": [
            "Enter a number: 154\n",
            "Numbers less than 154 that contain the digit 5:\n",
            "[5, 15, 25, 35, 45, 50, 51, 52, 53, 54, 55, 56, 57, 58, 59, 65, 75, 85, 95, 105, 115, 125, 135, 145, 150, 151, 152, 153]\n"
          ]
        }
      ]
    },
    {
      "cell_type": "code",
      "source": [
        "n = input(\"Enter n: \")  # Keep n as a string to avoid unnecessary conversions\n",
        "\n",
        "if all(digit == n[0] for digit in n):\n",
        "    print(f\"The number {n} is a uniform number\")\n",
        "else:\n",
        "    print(f\"The number {n} is not a uniform number\")"
      ],
      "metadata": {
        "colab": {
          "base_uri": "https://localhost:8080/"
        },
        "id": "YsaVqOPi6Vrd",
        "outputId": "f8ea5706-85f8-4f3b-c124-5a4bd9f0d65c"
      },
      "execution_count": 12,
      "outputs": [
        {
          "output_type": "stream",
          "name": "stdout",
          "text": [
            "Enter n: 55554\n",
            "The number 55554 is not a uniform number\n"
          ]
        }
      ]
    },
    {
      "cell_type": "code",
      "source": [
        "n = int(input(\"Enter n: \"))  # Get user input\n",
        "for i in range(1, n + 1):  # Loop through numbers from 1 to n\n",
        "    num_str = str(i)  # Convert number to string\n",
        "    if all(num_str[j] == num_str[j + 1] for j in range(len(num_str) - 1)):\n",
        "        print(i, end=\", \")  # Print uniform numbers\n"
      ],
      "metadata": {
        "colab": {
          "base_uri": "https://localhost:8080/"
        },
        "id": "c2pzJLm38wUY",
        "outputId": "44c1e977-32a7-4958-a8fa-441cd79165c1"
      },
      "execution_count": 13,
      "outputs": [
        {
          "output_type": "stream",
          "name": "stdout",
          "text": [
            "Enter n: 123\n",
            "1, 2, 3, 4, 5, 6, 7, 8, 9, 11, 22, 33, 44, 55, 66, 77, 88, 99, 111, "
          ]
        }
      ]
    },
    {
      "cell_type": "code",
      "source": [
        "def IsUniformNumber(k):\n",
        "    \"\"\"Check if a number consists of identical digits.\"\"\"\n",
        "    k_str = str(k)\n",
        "    return all(k_str[index] == k_str[0] for index in range(len(k_str)))\n",
        "\n",
        "# Get user input\n",
        "n = int(input(\"Enter n: \"))\n",
        "print(f\"Uniform numbers ≤ {n} are:\", end=\" \")\n",
        "\n",
        "# Loop through numbers from 0 to n\n",
        "for i in range(n + 1):\n",
        "    if IsUniformNumber(i):\n",
        "        print(i, end=\", \")"
      ],
      "metadata": {
        "colab": {
          "base_uri": "https://localhost:8080/"
        },
        "id": "2mSApKRc9XGG",
        "outputId": "1fb5b5de-73b7-4f95-b36b-1469e239cc3d"
      },
      "execution_count": 14,
      "outputs": [
        {
          "output_type": "stream",
          "name": "stdout",
          "text": [
            "Enter n: 100\n",
            "Uniform numbers ≤ 100 are: 0, 1, 2, 3, 4, 5, 6, 7, 8, 9, 11, 22, 33, 44, 55, 66, 77, 88, 99, "
          ]
        }
      ]
    },
    {
      "cell_type": "code",
      "source": [
        "# Given text\n",
        "S = \"\"\"Chiều chiều trước bến Văn Lâu\n",
        "Ai ngồi, ai câu, ai sầu, ai thảm\n",
        "Ai thương, ai cảm, ai nhớ, ai trông\n",
        "Thuyền ai thấp thoáng ven sông\n",
        "Đưa câu mái vẩy chạnh lòng nước non\"\"\"\n",
        "\n",
        "# Get the word to count from user input\n",
        "word = input(\"Enter the word to count: \")\n",
        "\n",
        "# Count occurrences (case-sensitive)\n",
        "count_case_sensitive = S.count(word)\n",
        "print(f'Part A: The word \"{word}\" appears {count_case_sensitive} times in the original text.')\n",
        "\n",
        "# Count occurrences (case-insensitive)\n",
        "count_case_insensitive = S.lower().count(word.lower())\n",
        "print(f'Part B: The word \"{word}\" appears {count_case_insensitive} times in the original text (case insensitive).')\n"
      ],
      "metadata": {
        "colab": {
          "base_uri": "https://localhost:8080/"
        },
        "id": "4jnZFqG8BBVo",
        "outputId": "ba199ac7-6b60-4bd5-ddc1-fefa412072ba"
      },
      "execution_count": 15,
      "outputs": [
        {
          "output_type": "stream",
          "name": "stdout",
          "text": [
            "Enter the word to count: Ai\n",
            "Part A: The word \"Ai\" appears 2 times in the original text.\n",
            "Part B: The word \"Ai\" appears 9 times in the original text (case insensitive).\n"
          ]
        }
      ]
    },
    {
      "cell_type": "code",
      "source": [],
      "metadata": {
        "id": "wurRg7MTDjnE"
      },
      "execution_count": null,
      "outputs": []
    }
  ]
}