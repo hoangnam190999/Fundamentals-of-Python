{
  "nbformat": 4,
  "nbformat_minor": 0,
  "metadata": {
    "colab": {
      "provenance": []
    },
    "kernelspec": {
      "name": "python3",
      "display_name": "Python 3"
    },
    "language_info": {
      "name": "python"
    }
  },
  "cells": [
    {
      "cell_type": "code",
      "source": [
        "print('A:')\n",
        "print(\"* * * * *\\n\"*3)"
      ],
      "metadata": {
        "colab": {
          "base_uri": "https://localhost:8080/"
        },
        "id": "smt7He1263kC",
        "outputId": "69b74290-442d-4475-9ad4-81c77853e7ef"
      },
      "execution_count": null,
      "outputs": [
        {
          "output_type": "stream",
          "name": "stdout",
          "text": [
            "Hinh A:\n",
            "* * * * *\n",
            "* * * * *\n",
            "* * * * *\n",
            "\n"
          ]
        }
      ]
    },
    {
      "cell_type": "code",
      "execution_count": null,
      "metadata": {
        "colab": {
          "base_uri": "https://localhost:8080/"
        },
        "id": "URlFJTYG6Wzs",
        "outputId": "6c967ff8-5e6b-4e25-8fa1-a194d0490b6d"
      },
      "outputs": [
        {
          "output_type": "stream",
          "name": "stdout",
          "text": [
            "Hello@@@World\n"
          ]
        }
      ],
      "source": [
        "#Ctrl+scroll -> zoom in and zoom out\n",
        "print(\"Hello\", end='@@@')     #end='': end with sth | eg: '\\n' ~ new line\n",
        "print(\"World\")"
      ]
    },
    {
      "cell_type": "code",
      "source": [
        "print(\"Hello world\")\n",
        "print(\"Hello\",\"world\")\n",
        "print(\"Hello\",\"world\",sep=\"~\") #sep:separator\n",
        "print(\"Hello \"*3)"
      ],
      "metadata": {
        "colab": {
          "base_uri": "https://localhost:8080/"
        },
        "id": "wKOG7bjF6pFi",
        "outputId": "f2859571-dd59-423e-e6fb-c4b30e8c3ce6"
      },
      "execution_count": null,
      "outputs": [
        {
          "output_type": "stream",
          "name": "stdout",
          "text": [
            "Hello world\n",
            "Hello world\n",
            "Hello~world\n",
            "Hello Hello Hello \n"
          ]
        }
      ]
    },
    {
      "cell_type": "code",
      "source": [
        "print('B:')\n",
        "print(\"* * * * *\")\n",
        "print(\"*       *\")\n",
        "print(\"* * * * *\")"
      ],
      "metadata": {
        "colab": {
          "base_uri": "https://localhost:8080/"
        },
        "id": "pieqDIsu7TeG",
        "outputId": "0839fd8d-49a9-47be-c334-f44553cfc9ef"
      },
      "execution_count": null,
      "outputs": [
        {
          "output_type": "stream",
          "name": "stdout",
          "text": [
            "Hinh B:\n",
            "* * * * *\n",
            "*       *\n",
            "* * * * *\n"
          ]
        }
      ]
    },
    {
      "cell_type": "code",
      "source": [
        "print('C:')\n",
        "print(\"  *  *  \")\n",
        "print(\"*      *\\n\"*3,end='')\n",
        "print(\"  *  *  \")"
      ],
      "metadata": {
        "colab": {
          "base_uri": "https://localhost:8080/"
        },
        "id": "n1dGEOVX-BUl",
        "outputId": "e5d6fb10-98e5-462f-b70a-340820fe2f15"
      },
      "execution_count": null,
      "outputs": [
        {
          "output_type": "stream",
          "name": "stdout",
          "text": [
            "Hinh C:\n",
            "  *  *  \n",
            "*      *\n",
            "*      *\n",
            "*      *\n",
            "  *  *  \n"
          ]
        }
      ]
    },
    {
      "cell_type": "code",
      "source": [
        "print('D:')\n",
        "print(\"*  *  *  *  *\")\n",
        "print(\"   *  *  *   \\n\"*3,end='')\n",
        "print(\"*  *  *  *  *\")"
      ],
      "metadata": {
        "colab": {
          "base_uri": "https://localhost:8080/"
        },
        "id": "U4T7BVTv-B0B",
        "outputId": "59658e29-0ac7-42e8-b8ee-39f571784f1c"
      },
      "execution_count": null,
      "outputs": [
        {
          "output_type": "stream",
          "name": "stdout",
          "text": [
            "Hinh D:\n",
            "*  *  *  *  *\n",
            "   *  *  *   \n",
            "   *  *  *   \n",
            "   *  *  *   \n",
            "*  *  *  *  *\n"
          ]
        }
      ]
    },
    {
      "cell_type": "code",
      "source": [
        "#Vietnamese_practise\n",
        "print('''Que Huong\n",
        ". . .\n",
        "\\tQuê hương là chùm khế ngọt\n",
        "\\t\\tCho con trèo hái mỗi ngày\n",
        "\\t\\t\\tQuê hương là đường đi học\n",
        "\\t\\t\\t\\tCon về rợp bướm vàng bay\n",
        ". . .\n",
        "\\t\\t\\t\\t\\tGiáp Văn Thạch''')"
      ],
      "metadata": {
        "colab": {
          "base_uri": "https://localhost:8080/"
        },
        "id": "-mhs499K_GqE",
        "outputId": "6f5f6222-edc3-4ef0-a8de-c94f63b41e54"
      },
      "execution_count": null,
      "outputs": [
        {
          "output_type": "stream",
          "name": "stdout",
          "text": [
            "Que Huong\n",
            ". . .\n",
            "\tQuê hương là chùm khế ngọt\n",
            "\t\tCho con trèo hái mỗi ngày\n",
            "\t\t\tQuê hương là đường đi học\n",
            "\t\t\t\tCon về rợp bướm vàng bay\n",
            ". . .\n",
            "\t\t\t\t\tGiáp Văn Thạch\n"
          ]
        }
      ]
    },
    {
      "cell_type": "code",
      "source": [
        "print(\"4a\")\n",
        "a = eval(input(\"Enter a: \"))\n",
        "b = eval(input(\"Enter b: \"))\n",
        "print(\"The sum of a and b is: {} + {} = {}\".format(a, b, a + b))"
      ],
      "metadata": {
        "colab": {
          "base_uri": "https://localhost:8080/"
        },
        "id": "SxwJkcVYAJ_v",
        "outputId": "815e4a09-50b4-4261-bc64-f7e3bfedb247"
      },
      "execution_count": null,
      "outputs": [
        {
          "output_type": "stream",
          "name": "stdout",
          "text": [
            "4a\n",
            "Nhap so a 14\n",
            "Nhap so b 16\n",
            "Tong a va b la: 14 + 16 = 30\n"
          ]
        }
      ]
    },
    {
      "cell_type": "code",
      "source": [
        "print(\"4b\")\n",
        "a, b = map(int, input(\"Enter two numbers separated by a space: \").split())\n",
        "print(\"The sum of a and b is: {} + {} = {}\".format(a, b, a + b))"
      ],
      "metadata": {
        "colab": {
          "base_uri": "https://localhost:8080/"
        },
        "id": "19N_u3SXAqwN",
        "outputId": "9a62620e-5061-40bc-e1a0-0d417bcf589b"
      },
      "execution_count": null,
      "outputs": [
        {
          "output_type": "stream",
          "name": "stdout",
          "text": [
            "4b\n",
            "Nhap hai so cach nhau boi khoang trang: 25 26\n",
            "Tong a va b la: 25 + 26 = 51\n"
          ]
        }
      ]
    },
    {
      "cell_type": "code",
      "source": [
        "print(\"4b\")\n",
        "a, b = map(int, input(\"Enter two numbers separated by a space: \").split())\n",
        "print(\"The sum of a and b is: {} + {} = {}\".format(a, b, a + b))"
      ],
      "metadata": {
        "colab": {
          "base_uri": "https://localhost:8080/"
        },
        "id": "1tSVpc1nXWxx",
        "outputId": "50532654-f748-4a71-8505-944993169ce3"
      },
      "execution_count": 2,
      "outputs": [
        {
          "output_type": "stream",
          "name": "stdout",
          "text": [
            "4b\n",
            "Enter two numbers separated by a space: 2 4\n",
            "The sum of a and b is: 2 + 4 = 6\n"
          ]
        }
      ]
    },
    {
      "cell_type": "code",
      "source": [
        "print(\"Exercise 5\")\n",
        "a, b = map(int, input(\"Enter two numbers separated by a space: \").split())\n",
        "print(\"The power a^b is: {} ^ {} = {}\".format(a, b, a**b))"
      ],
      "metadata": {
        "colab": {
          "base_uri": "https://localhost:8080/"
        },
        "id": "nyHhTXgWb8Xn",
        "outputId": "4c8aa4b9-fddb-49ee-af14-beba57be0afd"
      },
      "execution_count": null,
      "outputs": [
        {
          "output_type": "stream",
          "name": "stdout",
          "text": [
            "Bai 5\n",
            "Nhap hai so cach nhau boi khoang trang: 2 5\n",
            "Luy thua a^b la: 2 ^ 5 = 32\n"
          ]
        }
      ]
    },
    {
      "cell_type": "code",
      "source": [
        "a, b, c = map(int, input(\"Enter 3 integers separated by a space: \").split())\n",
        "largest = max(a, b, c)\n",
        "smallest = min(a, b, c)\n",
        "middle = a + b + c - largest - smallest\n",
        "print(\"{} {} {}\".format(smallest, middle, largest))"
      ],
      "metadata": {
        "colab": {
          "base_uri": "https://localhost:8080/"
        },
        "id": "eru6qdqPb6qu",
        "outputId": "58235322-ac0c-40e5-9d47-fce0bb8f4c99"
      },
      "execution_count": null,
      "outputs": [
        {
          "output_type": "stream",
          "name": "stdout",
          "text": [
            "Nhap 3 so nguyen cach nhau boi khoang trang: 2 5 4\n",
            "2 4 5\n"
          ]
        }
      ]
    },
    {
      "cell_type": "code",
      "source": [
        "print('Exercise 9:')\n",
        "length, width, height = map(eval, input('Enter 3 numbers separated by a space: ').split())\n",
        "area = length * width\n",
        "volume = length * width * height\n",
        "decimals = 2\n",
        "print('Rectangle area = {0:.{1}f}cm\\u00b2'.format(area, decimals))\n",
        "print('Rectangle volume = {0:.{1}f}cm\\u00b3'.format(volume, decimals))"
      ],
      "metadata": {
        "colab": {
          "base_uri": "https://localhost:8080/"
        },
        "id": "IxXo7PPxcjY_",
        "outputId": "d19be303-a861-48e2-d6e7-e978f5dbc7bd"
      },
      "execution_count": null,
      "outputs": [
        {
          "output_type": "stream",
          "name": "stdout",
          "text": [
            "Bai 9:\n",
            "Nhap 3 so cach nhau boi khoang trang: 25.444 44.444 56.555\n",
            "Dien tich hinh chu nhat = 1130.83cm²\n",
            "The tich hinh chu nhat = 63954.27cm³\n"
          ]
        }
      ]
    },
    {
      "cell_type": "code",
      "source": [
        "print('Exercise 10:')\n",
        "m = int(input('Enter the number of months: '))\n",
        "print(f'The number of rabbits after {m} months is {2**(m+1)}')"
      ],
      "metadata": {
        "colab": {
          "base_uri": "https://localhost:8080/"
        },
        "id": "PL6pJRaTeWzi",
        "outputId": "6f4d105e-5e03-4a4e-efa6-b22c0a598e82"
      },
      "execution_count": null,
      "outputs": [
        {
          "output_type": "stream",
          "name": "stdout",
          "text": [
            "Bai 10:\n",
            "Nhap so thang: 15\n",
            "So tho sau 15 thang la 65536\n"
          ]
        }
      ]
    },
    {
      "cell_type": "code",
      "source": [],
      "metadata": {
        "id": "uKKnMEP-Fvz_"
      },
      "execution_count": null,
      "outputs": []
    }
  ]
}