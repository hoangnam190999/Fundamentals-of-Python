{
  "nbformat": 4,
  "nbformat_minor": 0,
  "metadata": {
    "colab": {
      "provenance": []
    },
    "kernelspec": {
      "name": "python3",
      "display_name": "Python 3"
    },
    "language_info": {
      "name": "python"
    }
  },
  "cells": [
    {
      "cell_type": "code",
      "source": [
        "print(\"Exercise 11: \")\n",
        "import math\n",
        "r = eval(input(\"Ente1r the radius of the circle r: \"))\n",
        "S_circle = math.pi * (r**2)  # S_circle = 3.14 * r * r\n",
        "S_square = (r * 2) ** 2\n",
        "print(\"Shaded area = {} - {} = {:.2f}\".format(S_square, S_circle, S_square - S_circle))  # f: float"
      ],
      "metadata": {
        "colab": {
          "base_uri": "https://localhost:8080/"
        },
        "id": "dvNFy5bhImgw",
        "outputId": "df5ff7c8-4232-4aaf-e063-6a71dc69ed0b"
      },
      "execution_count": 1,
      "outputs": [
        {
          "output_type": "stream",
          "name": "stdout",
          "text": [
            "Exercise 11: \n",
            "Enter the radius of the circle r: 2\n",
            "Shaded area = 16 - 12.566370614359172 = 3.43\n"
          ]
        }
      ]
    },
    {
      "cell_type": "code",
      "source": [
        "#Bai 16 Trang 3\n",
        "sotien=eval(input(\"Nhap so tien: \")) #1234\n",
        "soto500=X//500\n",
        "sotien=sotien%500\n",
        "if soto500>0:\n",
        "  print('so to 500:',soto500)\n",
        "soto200=sotien//200\n",
        "sotien=sotien%200\n",
        "if soto200>0:\n",
        "  print('so to 200:',soto200)\n",
        "soto100=sotien//100\n",
        "sotien=sotien%100\n",
        "if soto100>0:\n",
        "  print('so to 100:',soto100)\n",
        "soto50=sotien//50\n",
        "sotien=sotien%50\n",
        "if soto50>0:\n",
        "  print('so to 50:',soto50)\n",
        "soto20=sotien//20\n",
        "sotien=sotien%20\n",
        "if soto20>0:\n",
        "  print('so to 20:',soto20)\n",
        "soto10=sotien//10\n",
        "sotien=sotien%10\n",
        "if soto10>0:\n",
        "  print('so to 10:',soto10)\n",
        "soto5=sotien//5\n",
        "sotien=sotien%5\n",
        "if soto5>0:\n",
        "  print('so to 5:',soto5)\n",
        "soto2=sotien//2\n",
        "sotien=sotien%2\n",
        "if soto2>0:\n",
        "  print('so to 2:',soto2)\n",
        "soto1=sotien//1\n",
        "sotien=sotien%1\n",
        "if soto1>0:\n",
        "  print('so to 1:',soto1)\n",
        "print(f'Tong so to tien la: {soto500+soto200+soto100+soto50+soto20+soto10+soto5+soto2+soto1}')"
      ],
      "metadata": {
        "id": "OFkChBudVHbK"
      },
      "execution_count": null,
      "outputs": []
    },
    {
      "cell_type": "code",
      "source": [
        "print(\"Exercise 12: \")\n",
        "import math\n",
        "r = eval(input(\"Enter r: \"))\n",
        "S_circle = math.pi * (r**2)\n",
        "S_rhombus = 1/2 * (2 * r * 2 * r)\n",
        "print(\"Shaded area = {} - {} = {:.2f}\".format(S_circle, S_rhombus, S_circle - S_rhombus))"
      ],
      "metadata": {
        "colab": {
          "base_uri": "https://localhost:8080/"
        },
        "id": "PKttDzFBJYRp",
        "outputId": "ea42fc9d-5aa8-4c33-cc04-17c4ea5f5123"
      },
      "execution_count": 2,
      "outputs": [
        {
          "output_type": "stream",
          "name": "stdout",
          "text": [
            "Exercise 12: \n",
            "Enter r: 12\n",
            "Shaded area = 452.3893421169302 - 288.0 = 164.39\n"
          ]
        }
      ]
    },
    {
      "cell_type": "code",
      "source": [
        "# Exercise 14\n",
        "amount = eval(input(\"Enter the amount of money: \"))  # Example: 1234\n",
        "\n",
        "bills_500 = amount // 500\n",
        "amount = amount % 500\n",
        "print('Number of 500 bills:', bills_500)\n",
        "\n",
        "bills_200 = amount // 200\n",
        "amount = amount % 200\n",
        "print('Number of 200 bills:', bills_200)\n",
        "\n",
        "bills_100 = amount // 100\n",
        "amount = amount % 100\n",
        "print('Number of 100 bills:', bills_100)\n",
        "\n",
        "bills_50 = amount // 50\n",
        "amount = amount % 50\n",
        "print('Number of 50 bills:', bills_50)\n",
        "\n",
        "bills_20 = amount // 20\n",
        "amount = amount % 20\n",
        "print('Number of 20 bills:', bills_20)\n",
        "\n",
        "bills_10 = amount // 10\n",
        "amount = amount % 10\n",
        "print('Number of 10 bills:', bills_10)\n",
        "\n",
        "bills_5 = amount // 5\n",
        "amount = amount % 5\n",
        "print('Number of 5 bills:', bills_5)\n",
        "\n",
        "bills_2 = amount // 2\n",
        "amount = amount % 2\n",
        "print('Number of 2 bills:', bills_2)\n",
        "\n",
        "bills_1 = amount // 1\n",
        "amount = amount % 1\n",
        "print('Number of 1 bills:', bills_1)\n",
        "\n",
        "print(f'Total number of bills: {bills_500 + bills_200 + bills_100 + bills_50 + bills_20 + bills_10 + bills_5 + bills_2 + bills_1}')\n"
      ],
      "metadata": {
        "colab": {
          "base_uri": "https://localhost:8080/"
        },
        "id": "I9XWE8PDGqH1",
        "outputId": "a8ddbde0-70e3-4043-a885-d0494125fa83"
      },
      "execution_count": 5,
      "outputs": [
        {
          "output_type": "stream",
          "name": "stdout",
          "text": [
            "Enter the amount of money: 1234\n",
            "Number of 500 bills: 2\n",
            "Number of 200 bills: 1\n",
            "Number of 100 bills: 0\n",
            "Number of 50 bills: 0\n",
            "Number of 20 bills: 1\n",
            "Number of 10 bills: 1\n",
            "Number of 5 bills: 0\n",
            "Number of 2 bills: 2\n",
            "Number of 1 bills: 0\n",
            "Total number of bills: 7\n"
          ]
        }
      ]
    },
    {
      "cell_type": "code",
      "source": [
        "# Exercise 17 # Only 6 if statements allowed\n",
        "a = eval(input(\"Enter the score: \"))\n",
        "\n",
        "if a < 0 or a > 100:\n",
        "    print(\"Only accept values from 0 to 100\")\n",
        "elif a >= 90:\n",
        "    print(\"Grade A\")\n",
        "elif 80 <= a <= 89:\n",
        "    print(\"Grade B\")\n",
        "elif 70 <= a <= 79:\n",
        "    print(\"Grade C\")\n",
        "elif 65 <= a <= 69:\n",
        "    print(\"Grade D\")\n",
        "else:\n",
        "    print(\"Grade E\")"
      ],
      "metadata": {
        "colab": {
          "base_uri": "https://localhost:8080/"
        },
        "id": "_b8jv4YDb5ZW",
        "outputId": "2d25c9eb-da25-4fce-dbaf-4697fef1e202"
      },
      "execution_count": 6,
      "outputs": [
        {
          "output_type": "stream",
          "name": "stdout",
          "text": [
            "Enter the score: 5\n",
            "Grade E\n"
          ]
        }
      ]
    },
    {
      "cell_type": "code",
      "source": [
        "# Exercise 21\n",
        "a, b = map(int, input(\"Enter two numbers separated by a space: \").split())\n",
        "\n",
        "if a == 0 and b == 0:\n",
        "    print(\"The equation has infinitely many solutions\")\n",
        "elif a == 0 and b != 0:\n",
        "    print(\"The equation has no solution\")\n",
        "elif a != 0:\n",
        "    print(\"The equation has a solution: \", -b / a)\n"
      ],
      "metadata": {
        "colab": {
          "base_uri": "https://localhost:8080/"
        },
        "id": "jX-kaSY_czJU",
        "outputId": "84132e2b-55f1-4b07-f915-f08bc9c3b998"
      },
      "execution_count": 7,
      "outputs": [
        {
          "output_type": "stream",
          "name": "stdout",
          "text": [
            "Enter two numbers separated by a space: 2 4\n",
            "The equation has a solution:  -2.0\n"
          ]
        }
      ]
    },
    {
      "cell_type": "code",
      "source": [
        "# Exercise 21*\n",
        "a, b = map(int, input(\"Enter two numbers separated by a space: \").split())\n",
        "\n",
        "if a == 0 and b == 0:\n",
        "    print(\"The equation has infinitely many solutions\")\n",
        "elif a == 0 and b != 0:\n",
        "    print(\"The equation has no solution\")\n",
        "else:\n",
        "    x = -b / a\n",
        "    print(f\"x = {x}\")"
      ],
      "metadata": {
        "colab": {
          "base_uri": "https://localhost:8080/"
        },
        "id": "pJG_syP_iYEl",
        "outputId": "f1196a69-6d6b-4c3e-f6ae-4f191616c25f"
      },
      "execution_count": 8,
      "outputs": [
        {
          "output_type": "stream",
          "name": "stdout",
          "text": [
            "Enter two numbers separated by a space: 2 6 \n",
            "x = -3.0\n"
          ]
        }
      ]
    },
    {
      "cell_type": "code",
      "source": [
        "# Exercise 22\n",
        "import math\n",
        "\n",
        "a, b, c = map(eval, input(\"Enter three numbers separated by a space: \").split())\n",
        "delta = b**2 - 4*a*c\n",
        "\n",
        "if delta < 0:\n",
        "    print(\"The equation has no real solution\")\n",
        "elif delta == 0:\n",
        "    print(\"The equation has a double root: \", -b / (2*a))\n",
        "else:\n",
        "    x1 = (-b + math.sqrt(delta)) / (2*a)\n",
        "    x2 = (-b - math.sqrt(delta)) / (2*a)\n",
        "    print(f\"The equation has two distinct solutions: x1 = {x1} and x2 = {x2}\")"
      ],
      "metadata": {
        "id": "nbRN02iWjTCQ"
      },
      "execution_count": null,
      "outputs": []
    },
    {
      "cell_type": "code",
      "source": [
        "# Exercise 19\n",
        "a = eval(input(\"Enter your weight (kg): \"))\n",
        "b = eval(input(\"Enter your height (m): \"))\n",
        "\n",
        "print(\"Using if-else\")\n",
        "\n",
        "BMI = a / (b * b)\n",
        "print(f\"Your BMI is: {BMI:.2f}\")\n",
        "\n",
        "if BMI < 18.5:\n",
        "    print(\"Underweight\")\n",
        "elif 18.5 <= BMI < 22.9:\n",
        "    print(\"Normal\")\n",
        "elif 23 <= BMI < 24.99:\n",
        "    print(\"Overweight\")\n",
        "else:\n",
        "    print(\"Obese\")\n"
      ],
      "metadata": {
        "id": "zX_gO2iWk_Hm"
      },
      "execution_count": null,
      "outputs": []
    },
    {
      "cell_type": "code",
      "source": [
        "print(\"Homework_18_Page4\")\n",
        "\n",
        "n = int(input(\"Enter a positive integer n: \"))\n",
        "\n",
        "if n == 1:\n",
        "    print(\"I\")\n",
        "elif n == 2:\n",
        "    print(\"II\")\n",
        "elif n == 3:\n",
        "    print(\"III\")\n",
        "elif n == 4:\n",
        "    print(\"IV\")\n",
        "elif n == 5:\n",
        "    print(\"V\")\n",
        "elif n == 6:\n",
        "    print(\"VI\")\n",
        "elif n == 7:\n",
        "    print(\"VII\")\n",
        "elif n == 8:\n",
        "    print(\"VIII\")\n",
        "elif n == 9:\n",
        "    print(\"IX\")\n",
        "elif n == 10:\n",
        "    print(\"X\")\n",
        "else:\n",
        "    print(\"Only accepts positive integers n in the range of 1 to 10\")\n"
      ],
      "metadata": {
        "id": "12Rag3mRqu0O"
      },
      "execution_count": null,
      "outputs": []
    },
    {
      "cell_type": "code",
      "source": [
        "print(\"Homework_18_Page4_Match_Case\")\n",
        "\n",
        "n = int(input(\"Enter a positive integer n: \"))\n",
        "\n",
        "match n:\n",
        "    case _ if n == 1:\n",
        "        print(\"I\")\n",
        "    case _ if n == 2:\n",
        "        print(\"II\")\n",
        "    case _ if n == 3:\n",
        "        print(\"III\")\n",
        "    case _ if n == 4:\n",
        "        print(\"IV\")\n",
        "    case _ if n == 5:\n",
        "        print(\"V\")\n",
        "    case _ if n == 6:\n",
        "        print(\"VI\")\n",
        "    case _ if n == 7:\n",
        "        print(\"VII\")\n",
        "    case _ if n == 8:\n",
        "        print(\"VIII\")\n",
        "    case _ if n == 9:\n",
        "        print(\"IX\")\n",
        "    case _ if n == 10:\n",
        "        print(\"X\")\n",
        "    case _:\n",
        "        print(\"Only accepts positive integers n in the range of 1 to 10\")\n"
      ],
      "metadata": {
        "colab": {
          "base_uri": "https://localhost:8080/"
        },
        "id": "K5NAYjD841gr",
        "outputId": "fbdea073-a72c-48a2-e0c3-60b5916a3d3a"
      },
      "execution_count": 9,
      "outputs": [
        {
          "output_type": "stream",
          "name": "stdout",
          "text": [
            "Homework_18_Page4_Match_Case\n",
            "Enter a positive integer n: 5\n",
            "V\n"
          ]
        }
      ]
    },
    {
      "cell_type": "code",
      "source": [
        "print(\"Homework_26_Page5\")\n",
        "\n",
        "a, b, c = map(eval, input(\"Enter three numbers separated by spaces: \").split())\n",
        "\n",
        "# Check for arithmetic sequence\n",
        "if b - a == c - b:\n",
        "    d = b - a\n",
        "    next_number = c + d\n",
        "    print(f\"The three numbers form an arithmetic sequence with a common difference of {d}.\")\n",
        "    print(f\"The next number in the sequence is: {next_number}\")\n",
        "\n",
        "# Check for geometric sequence\n",
        "elif b / a == c / b:\n",
        "    q = b / a\n",
        "    next_number = c * q\n",
        "    print(f\"The three numbers form a geometric sequence with a common ratio of {q}.\")\n",
        "    print(f\"The next number in the sequence is: {next_number}\")\n",
        "\n",
        "else:\n",
        "    print(\"The three numbers do not form an arithmetic or geometric sequence.\")\n"
      ],
      "metadata": {
        "id": "eFO_W8jD6Ggf"
      },
      "execution_count": null,
      "outputs": []
    },
    {
      "cell_type": "code",
      "source": [],
      "metadata": {
        "id": "U2nh_fzhnH9g"
      },
      "execution_count": null,
      "outputs": []
    }
  ]
}