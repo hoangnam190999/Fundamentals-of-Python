{
  "nbformat": 4,
  "nbformat_minor": 0,
  "metadata": {
    "colab": {
      "provenance": []
    },
    "kernelspec": {
      "name": "python3",
      "display_name": "Python 3"
    },
    "language_info": {
      "name": "python"
    }
  },
  "cells": [
    {
      "cell_type": "code",
      "execution_count": 1,
      "metadata": {
        "colab": {
          "base_uri": "https://localhost:8080/"
        },
        "id": "HLjrI68h6jy6",
        "outputId": "3a4ffc16-d526-4c3d-f73c-f9a21796d79b"
      },
      "outputs": [
        {
          "output_type": "stream",
          "name": "stdout",
          "text": [
            "\n",
            "\n",
            "=========    MENU DEMONSTRATION PROGRAM ========\n",
            "1.- Good Morning\n",
            "2.- Good Afternoon\n",
            "3.- Good Evening\n",
            "4.- Exit the program\n",
            "Select a function (1-4): 2\n",
            "2.- Good Afternoon\n",
            "\n",
            "\n",
            "=========    MENU DEMONSTRATION PROGRAM ========\n",
            "1.- Good Morning\n",
            "2.- Good Afternoon\n",
            "3.- Good Evening\n",
            "4.- Exit the program\n",
            "Select a function (1-4): 4\n",
            "Bye Bye!!!\n"
          ]
        }
      ],
      "source": [
        "#Question 1\n",
        "def menu():\n",
        "    while True:\n",
        "        # Display menu\n",
        "        print('\\n\\n=========    MENU DEMONSTRATION PROGRAM ========')\n",
        "        print('1.- Good Morning')\n",
        "        print('2.- Good Afternoon')\n",
        "        print('3.- Good Evening')\n",
        "        print('4.- Exit the program')\n",
        "        chon = int(input('Select a function (1-4): '))\n",
        "\n",
        "        match chon:\n",
        "            case 1: In1()\n",
        "            case 2: In2()\n",
        "            case 3: In3()\n",
        "            case 4:\n",
        "                print('Bye Bye!!!')\n",
        "                break  # Exit the loop and terminate the program\n",
        "\n",
        "def In1():\n",
        "    print('1.- Good Morning')\n",
        "\n",
        "def In2():\n",
        "    print('2.- Good Afternoon')\n",
        "\n",
        "def In3():\n",
        "    print('3.- Good Evening')\n",
        "\n",
        "# Main Program Execution\n",
        "menu()\n"
      ]
    },
    {
      "cell_type": "code",
      "source": [
        "# Question 2\n",
        "n = input('Please enter a number n: ')\n",
        "n_str = str(n)\n",
        "D = {}\n",
        "\n",
        "for i in n_str:\n",
        "    if i.isdigit():\n",
        "        if i not in D:\n",
        "            D[i] = 1\n",
        "        else:\n",
        "            D[i] += 1\n",
        "\n",
        "for k in sorted(D.keys(), key=lambda x: int(x)):\n",
        "    print(f'Number {k} appears {D[k]} times')\n"
      ],
      "metadata": {
        "colab": {
          "base_uri": "https://localhost:8080/"
        },
        "id": "18BOpayPAqSl",
        "outputId": "3bf5af56-cd7f-4fbb-f1f1-9d6c2794ebe1"
      },
      "execution_count": 2,
      "outputs": [
        {
          "output_type": "stream",
          "name": "stdout",
          "text": [
            "Please enter a number n: -1144.31\n",
            "Number 1 appears 3 times\n",
            "Number 3 appears 1 times\n",
            "Number 4 appears 2 times\n"
          ]
        }
      ]
    },
    {
      "cell_type": "code",
      "source": [
        "# Question 3\n",
        "import random\n",
        "n = int(input('Enter an integer n: '))\n",
        "L = [random.randint(1, 2000) for i in range(n)]\n",
        "print('Initial list L: ', L)\n",
        "\n",
        "def QuestionA(k):\n",
        "    digits = [int(d) for d in str(k)]\n",
        "    return all(digits[i] <= digits[i + 1] for i in range(len(digits) - 1))\n",
        "\n",
        "def QuestionB(k):\n",
        "    return all(int(d) % 2 == 0 for d in str(k))\n",
        "\n",
        "def QuestionC(k):\n",
        "    digits = str(k)\n",
        "    return all(d == digits[0] for d in digits)\n",
        "\n",
        "def QuestionD(k):\n",
        "    primes = {'2', '3', '5', '7'}  # Prime digits\n",
        "    return all(d in primes for d in str(k))\n",
        "\n",
        "for k in L:\n",
        "    print(f\"Number {k}:\")\n",
        "    print(f\"  - Question a: Digits are in ascending order from left to right: {QuestionA(k)}\")\n",
        "    print(f\"  - Question b: All digits are even: {QuestionB(k)}\")\n",
        "    print(f\"  - Question c: All digits are the same: {QuestionC(k)}\")\n",
        "    print(f\"  - Question d: All digits are prime numbers: {QuestionD(k)}\")\n"
      ],
      "metadata": {
        "colab": {
          "base_uri": "https://localhost:8080/"
        },
        "id": "F_TJ3h_UBIhx",
        "outputId": "ca179cd7-d28f-4fa6-c269-02962848db3d"
      },
      "execution_count": 3,
      "outputs": [
        {
          "output_type": "stream",
          "name": "stdout",
          "text": [
            "Enter an integer n: 5\n",
            "Initial list L:  [1552, 811, 43, 1998, 1855]\n",
            "Number 1552:\n",
            "  - Question a: Digits are in ascending order from left to right: False\n",
            "  - Question b: All digits are even: False\n",
            "  - Question c: All digits are the same: False\n",
            "  - Question d: All digits are prime numbers: False\n",
            "Number 811:\n",
            "  - Question a: Digits are in ascending order from left to right: False\n",
            "  - Question b: All digits are even: False\n",
            "  - Question c: All digits are the same: False\n",
            "  - Question d: All digits are prime numbers: False\n",
            "Number 43:\n",
            "  - Question a: Digits are in ascending order from left to right: False\n",
            "  - Question b: All digits are even: False\n",
            "  - Question c: All digits are the same: False\n",
            "  - Question d: All digits are prime numbers: False\n",
            "Number 1998:\n",
            "  - Question a: Digits are in ascending order from left to right: False\n",
            "  - Question b: All digits are even: False\n",
            "  - Question c: All digits are the same: False\n",
            "  - Question d: All digits are prime numbers: False\n",
            "Number 1855:\n",
            "  - Question a: Digits are in ascending order from left to right: False\n",
            "  - Question b: All digits are even: False\n",
            "  - Question c: All digits are the same: False\n",
            "  - Question d: All digits are prime numbers: False\n"
          ]
        }
      ]
    },
    {
      "cell_type": "code",
      "source": [
        "# Question 4\n",
        "nt = lambda k: k > 1 and all(k % i != 0 for i in range(2, int(k**0.5) + 1))\n",
        "n = int(input(\"Enter an integer greater than 2: \"))\n",
        "so = next(k for k in range(n - 1, 1, -1) if nt(k))\n",
        "print(f\"The prime number closest to and less than {n} is: {so}\")\n"
      ],
      "metadata": {
        "id": "etywoWDPHOtE",
        "colab": {
          "base_uri": "https://localhost:8080/"
        },
        "outputId": "6e533302-cbcc-48b5-8118-5bc8f4c73c0f"
      },
      "execution_count": 6,
      "outputs": [
        {
          "output_type": "stream",
          "name": "stdout",
          "text": [
            "Enter an integer greater than 2: 4\n",
            "The prime number closest to and less than 4 is: 3\n"
          ]
        }
      ]
    },
    {
      "cell_type": "code",
      "source": [
        "# Question 5\n",
        "S = input(\"Please enter an IP address: \")\n",
        "split_ip = S.split('.')\n",
        "remove_zeroes = [str(int(i)) for i in split_ip]\n",
        "result = '.'.join(remove_zeroes)\n",
        "print(\"The IP address after removing meaningless zeros is:\", result)\n"
      ],
      "metadata": {
        "colab": {
          "base_uri": "https://localhost:8080/"
        },
        "id": "avLR7ap-GCRi",
        "outputId": "d135aef9-fa42-4437-8161-b1c6119341c8"
      },
      "execution_count": 4,
      "outputs": [
        {
          "output_type": "stream",
          "name": "stdout",
          "text": [
            "Please enter an IP address: 190.009.1291\n",
            "The IP address after removing meaningless zeros is: 190.9.1291\n"
          ]
        }
      ]
    },
    {
      "cell_type": "code",
      "source": [
        "# Question 6\n",
        "S = input(\"Please enter a phone number: \")\n",
        "\n",
        "print('\\nMethod 1: Comprehension')\n",
        "def is_missing(digit):\n",
        "    return str(digit) not in S\n",
        "missing_digits_1 = list(filter(is_missing, [i for i in range(10)]))\n",
        "print(f\"The phone number {S} does not contain the digits:\", missing_digits_1)\n",
        "\n",
        "print('\\nMethod 2: Anonymous function')\n",
        "missing_digits_2 = list(filter(lambda x: str(x) not in S, [i for i in range(10)]))\n",
        "print(f\"The phone number {S} does not contain the digits:\", missing_digits_2)\n"
      ],
      "metadata": {
        "colab": {
          "base_uri": "https://localhost:8080/"
        },
        "id": "I4C6V43FGVhq",
        "outputId": "ec15ec04-9da5-49f5-e188-bfdf777ed439"
      },
      "execution_count": 5,
      "outputs": [
        {
          "output_type": "stream",
          "name": "stdout",
          "text": [
            "Please enter a phone number: 0931773281\n",
            "\n",
            "Method 1: Comprehension\n",
            "The phone number 0931773281 does not contain the digits: [4, 5, 6]\n",
            "\n",
            "Method 2: Anonymous function\n",
            "The phone number 0931773281 does not contain the digits: [4, 5, 6]\n"
          ]
        }
      ]
    },
    {
      "cell_type": "code",
      "source": [
        "import csv\n",
        "\n",
        "def ReadCSVContent(filename):\n",
        "    try:\n",
        "        with open(filename, mode='r', encoding='utf-8') as file:\n",
        "            reader = csv.DictReader(file)  # Read CSV file using DictReader\n",
        "\n",
        "            results = []\n",
        "\n",
        "            for row in reader:\n",
        "                border_count = sum([\n",
        "                    row['Borders China'] == 'Yes',\n",
        "                    row['Borders Laos'] == 'Yes',\n",
        "                    row['Borders Cambodia'] == 'Yes'\n",
        "                ])\n",
        "                condition1 = border_count >= 2\n",
        "\n",
        "                condition2 = (row['Borders the sea'] == 'Yes') and border_count == 1\n",
        "\n",
        "                if condition1 or condition2:\n",
        "                    results.append({\n",
        "                        'Province/City Name': row['Province/City Name'],\n",
        "                        'Borders China': row['Borders China'],\n",
        "                        'Borders Laos': row['Borders Laos'],\n",
        "                        'Borders Cambodia': row['Borders Cambodia'],\n",
        "                        'Borders the sea': row['Borders the sea']\n",
        "                    })\n",
        "\n",
        "        return results\n",
        "\n",
        "    except FileNotFoundError:\n",
        "        print(f\"Error: File '{filename}' not found.\")\n",
        "        return []\n",
        "    except KeyError as e:\n",
        "        print(f\"Error: Missing data column {e} in the file.\")\n",
        "        return []\n",
        "    except Exception as e:\n",
        "        print(f\"An error occurred: {e}\")\n",
        "        return []\n",
        "\n",
        "def WriteCSVFile(filename, listname):\n",
        "    try:\n",
        "        with open(filename, mode='w', encoding='utf-8', newline='') as file:\n",
        "            fieldnames = listname[0].keys()\n",
        "            writer = csv.DictWriter(file, fieldnames=fieldnames, delimiter=',')\n",
        "\n",
        "            writer.writeheader()\n",
        "\n",
        "            for item in listname:\n",
        "                writer.writerow(item)\n",
        "\n",
        "        print(f\"Content has been successfully written to file '{filename}'!\")\n",
        "\n",
        "    except IndexError:\n",
        "        print(\"Error: The provided list is empty, no data to write.\")\n",
        "    except Exception as e:\n",
        "        print(f\"An error occurred: {e}\")\n",
        "\n",
        "input_file_path = '/Users/hubert/Desktop/Data_DiaLyVietNam.csv'\n",
        "\n",
        "output_file_path = '/Users/hubert/Desktop/Data_DiaLyVietNam.csv'\n",
        "\n",
        "filtered_results = ReadCSVContent(input_file_path)\n",
        "\n",
        "if filtered_results:\n",
        "    WriteCSVFile(output_file_path, filtered_results)\n",
        "else:\n",
        "    print(\"No matching data to write to file.\")\n"
      ],
      "metadata": {
        "id": "pVLNJYt_KXn1"
      },
      "execution_count": null,
      "outputs": []
    },
    {
      "cell_type": "code",
      "source": [],
      "metadata": {
        "id": "tG_F38NhXBv9"
      },
      "execution_count": null,
      "outputs": []
    }
  ]
}