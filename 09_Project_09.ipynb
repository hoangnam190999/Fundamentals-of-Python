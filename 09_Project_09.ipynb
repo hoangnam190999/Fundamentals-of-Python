{
  "nbformat": 4,
  "nbformat_minor": 0,
  "metadata": {
    "colab": {
      "provenance": []
    },
    "kernelspec": {
      "name": "python3",
      "display_name": "Python 3"
    },
    "language_info": {
      "name": "python"
    }
  },
  "cells": [
    {
      "cell_type": "code",
      "execution_count": 1,
      "metadata": {
        "colab": {
          "base_uri": "https://localhost:8080/"
        },
        "id": "3O3n3dgFO_Z7",
        "outputId": "2bf67b47-b6ca-48f1-9747-ce038786a013"
      },
      "outputs": [
        {
          "output_type": "stream",
          "name": "stdout",
          "text": [
            "Original list: [84, 4, 146, 67, 57, 150, 95, 8, 177, 33]\n",
            "List after converting to strings: ['84', '4', '146', '67', '57', '150', '95', '8', '177', '33']\n"
          ]
        }
      ],
      "source": [
        "import random\n",
        "\n",
        "# Generate a list of 10 random integers between 0 and 200\n",
        "L = [random.randint(0, 200) for i in range(10)]\n",
        "print(\"Original list:\", L)\n",
        "\n",
        "# Convert each integer in the list to a string\n",
        "L2 = list(map(str, L))\n",
        "print(\"List after converting to strings:\", L2)\n"
      ]
    },
    {
      "cell_type": "code",
      "source": [
        "# Generate list B: decreasing sequence from 100 to 10\n",
        "B = [i for i in range(100, 9, -10)]\n",
        "\n",
        "# Generate list E: increasing sequence from 1 to 10\n",
        "E = [i for i in range(1, 11)]\n",
        "\n",
        "print(\"List B:\", B)\n",
        "print(\"List E:\", E)\n",
        "\n",
        "# Compute C using power operation B^E\n",
        "C = list(map(pow, B, E))  # Equivalent to [B[i] ** E[i] for i in range(len(B))]\n",
        "# Alternative using lambda function:\n",
        "# C = list(map(lambda x, y: x ** y, B, E))\n",
        "\n",
        "print(\"List C (B^E):\", C)\n"
      ],
      "metadata": {
        "colab": {
          "base_uri": "https://localhost:8080/"
        },
        "id": "rh_-1jCTSAg_",
        "outputId": "3f33acc7-d6bf-4009-957c-14563ca911b2"
      },
      "execution_count": 2,
      "outputs": [
        {
          "output_type": "stream",
          "name": "stdout",
          "text": [
            "List B: [100, 90, 80, 70, 60, 50, 40, 30, 20, 10]\n",
            "List E: [1, 2, 3, 4, 5, 6, 7, 8, 9, 10]\n",
            "List C (B^E): [100, 8100, 512000, 24010000, 777600000, 15625000000, 163840000000, 656100000000, 512000000000, 10000000000]\n"
          ]
        }
      ]
    },
    {
      "cell_type": "code",
      "source": [
        "import random\n",
        "\n",
        "# Function to compute sum and difference\n",
        "def compute_sum_difference(x, y):\n",
        "    return x + y, x - y\n",
        "\n",
        "# Generate two random lists with 10 elements each (values between 0 and 100)\n",
        "L1 = [random.randint(0, 100) for _ in range(10)]\n",
        "L2 = [random.randint(0, 100) for _ in range(10)]\n",
        "\n",
        "print(\"List L1:\", L1)\n",
        "print(\"List L2:\", L2)\n",
        "\n",
        "# Calculate sum and difference using a function\n",
        "L3 = list(map(compute_sum_difference, L1, L2))\n",
        "print(\"Sum and difference of corresponding elements (L1, L2):\", L3)\n",
        "\n",
        "# Alternative approach using lambda function\n",
        "L4 = list(map(lambda x, y: (x + y, x - y), L1, L2))\n",
        "print(\"Sum and difference (using lambda):\", L4)\n"
      ],
      "metadata": {
        "colab": {
          "base_uri": "https://localhost:8080/"
        },
        "id": "qODdI94hWefb",
        "outputId": "f459b14f-0b69-4fe7-a3d2-4fe2ff55edc4"
      },
      "execution_count": 3,
      "outputs": [
        {
          "output_type": "stream",
          "name": "stdout",
          "text": [
            "List L1: [49, 28, 89, 67, 79, 16, 79, 62, 67, 7]\n",
            "List L2: [55, 75, 83, 83, 59, 1, 98, 18, 81, 57]\n",
            "Sum and difference of corresponding elements (L1, L2): [(104, -6), (103, -47), (172, 6), (150, -16), (138, 20), (17, 15), (177, -19), (80, 44), (148, -14), (64, -50)]\n",
            "Sum and difference (using lambda): [(104, -6), (103, -47), (172, 6), (150, -16), (138, 20), (17, 15), (177, -19), (80, 44), (148, -14), (64, -50)]\n"
          ]
        }
      ]
    },
    {
      "cell_type": "code",
      "source": [
        "import random\n",
        "import math\n",
        "\n",
        "def find_nearest_squares(k):\n",
        "    \"\"\"\n",
        "    Finds the nearest perfect square numbers before and after k.\n",
        "\n",
        "    Args:\n",
        "        k (int): The input number.\n",
        "\n",
        "    Returns:\n",
        "        tuple: (previous perfect square, k, next perfect square)\n",
        "    \"\"\"\n",
        "\n",
        "    # Find the next perfect square greater than or equal to k\n",
        "    if k < 1:\n",
        "        next_square = 1\n",
        "    else:\n",
        "        next_square = k + 1\n",
        "        while int(math.sqrt(next_square))**2 != next_square:\n",
        "            next_square += 1\n",
        "\n",
        "    # Find the previous perfect square less than or equal to k\n",
        "    if k <= 1:\n",
        "        prev_square = 0\n",
        "    else:\n",
        "        prev_square = k - 1\n",
        "        while int(math.sqrt(prev_square))**2 != prev_square:\n",
        "            prev_square -= 1\n",
        "\n",
        "    return prev_square, k, next_square  # Returning as a tuple\n",
        "\n",
        "\n",
        "# Main program\n",
        "L1 = [random.randint(-10, 200) for _ in range(8)]\n",
        "print(\"Original List:\", L1)\n",
        "\n",
        "L2 = list(map(find_nearest_squares, L1))\n",
        "print(\"Resulting List:\", L2)\n",
        "\n",
        "# Alternative list comprehension approach\n",
        "L4 = [random.randint(-10, 200) for _ in range(8)]\n",
        "print(\"Alternative Random List:\", L4)\n"
      ],
      "metadata": {
        "colab": {
          "base_uri": "https://localhost:8080/"
        },
        "id": "8C8Sc6gVZkmm",
        "outputId": "973130d6-ea6b-4268-fb1b-04bd646a3f86"
      },
      "execution_count": 4,
      "outputs": [
        {
          "output_type": "stream",
          "name": "stdout",
          "text": [
            "Original List: [42, 102, 184, 81, 126, 186, 29, 80]\n",
            "Resulting List: [(36, 42, 49), (100, 102, 121), (169, 184, 196), (64, 81, 100), (121, 126, 144), (169, 186, 196), (25, 29, 36), (64, 80, 81)]\n",
            "Alternative Random List: [181, 73, 17, 171, 198, 159, -3, 161]\n"
          ]
        }
      ]
    },
    {
      "cell_type": "code",
      "source": [
        "# Generate a list of powers of 2 from 2^0 to 2^8\n",
        "La = [2**i for i in range(9)]\n",
        "print(La)\n"
      ],
      "metadata": {
        "id": "LRSIvN2ve0-h",
        "colab": {
          "base_uri": "https://localhost:8080/"
        },
        "outputId": "2bfa1488-995b-4426-9c98-7e9647178077"
      },
      "execution_count": 5,
      "outputs": [
        {
          "output_type": "stream",
          "name": "stdout",
          "text": [
            "[1, 2, 4, 8, 16, 32, 64, 128, 256]\n"
          ]
        }
      ]
    },
    {
      "cell_type": "code",
      "source": [
        "#an=n*(n+1)\n",
        "Lb=[i*(i+1) for i in range(1,10)]\n",
        "print(Lb)"
      ],
      "metadata": {
        "colab": {
          "base_uri": "https://localhost:8080/"
        },
        "id": "ANgb1jjyICoa",
        "outputId": "c0bcbdc4-cd5e-4aa1-a47d-9d77afc0b8af"
      },
      "execution_count": null,
      "outputs": [
        {
          "output_type": "stream",
          "name": "stdout",
          "text": [
            "[2, 6, 12, 20, 30, 42, 56, 72, 90]\n"
          ]
        }
      ]
    },
    {
      "cell_type": "code",
      "source": [
        "#Bai107c\n",
        "import string\n",
        "# Using string.ascii_lowercase to get lowercase letters\n",
        "L = list(string.ascii_lowercase)\n",
        "a = ord('a')\n",
        "z = ord('z') + 1\n",
        "L = list(map(str, (chr(i) for i in range(a, z))))\n",
        "print(L)"
      ],
      "metadata": {
        "colab": {
          "base_uri": "https://localhost:8080/"
        },
        "id": "jF8Yyyo7IMxu",
        "outputId": "ae0b07bd-cbe6-44e3-f379-218de954e9e7"
      },
      "execution_count": null,
      "outputs": [
        {
          "output_type": "stream",
          "name": "stdout",
          "text": [
            "['a', 'b', 'c', 'd', 'e', 'f', 'g', 'h', 'i', 'j', 'k', 'l', 'm', 'n', 'o', 'p', 'q', 'r', 's', 't', 'u', 'v', 'w', 'x', 'y', 'z']\n"
          ]
        }
      ]
    },
    {
      "cell_type": "code",
      "source": [
        "#Bai107c\n",
        "import string\n",
        "L=[chr(i) for i in range(ord('a'),ord('z')+1)]\n",
        "print('Cach 1: ',L)\n",
        "#L=[chr(i)for i in range(chr(65),chr(97))]\n",
        "#chr(65)=>A,chr(97)=>a\n",
        "#print(chr(65),chr(97))\n",
        "L1=[chr(i) for i in range (97,123)]\n",
        "print('Cach 2: ',L1)"
      ],
      "metadata": {
        "colab": {
          "base_uri": "https://localhost:8080/"
        },
        "id": "yHiBxWY0iSuq",
        "outputId": "345e32bc-913e-4420-f79d-e177f16be235"
      },
      "execution_count": null,
      "outputs": [
        {
          "output_type": "stream",
          "name": "stdout",
          "text": [
            "Cach 1:  ['a', 'b', 'c', 'd', 'e', 'f', 'g', 'h', 'i', 'j', 'k', 'l', 'm', 'n', 'o', 'p', 'q', 'r', 's', 't', 'u', 'v', 'w', 'x', 'y', 'z']\n",
            "Cach 2:  ['a', 'b', 'c', 'd', 'e', 'f', 'g', 'h', 'i', 'j', 'k', 'l', 'm', 'n', 'o', 'p', 'q', 'r', 's', 't', 'u', 'v', 'w', 'x', 'y', 'z']\n"
          ]
        }
      ]
    },
    {
      "cell_type": "code",
      "source": [
        "# Bai 107e: Generate an arithmetic sequence\n",
        "\n",
        "# Get user input\n",
        "start = int(input(\"Enter the starting number: \"))\n",
        "stop = int(input(\"Enter the ending number: \"))\n",
        "step = int(input(\"Enter the step size: \"))\n",
        "\n",
        "# Adjust step for decreasing sequences\n",
        "if start > stop:\n",
        "    step = -abs(step)  # Ensure step is negative for descending order\n",
        "\n",
        "# Generate the sequence using list comprehension\n",
        "L = [i for i in range(start, stop, step)]\n",
        "\n",
        "# Print the result\n",
        "print(\"Generated sequence:\", L)\n"
      ],
      "metadata": {
        "colab": {
          "base_uri": "https://localhost:8080/"
        },
        "id": "7xRt4rlnl62-",
        "outputId": "8cfca2a1-cd77-4b15-9fac-305e94fb1131"
      },
      "execution_count": 6,
      "outputs": [
        {
          "output_type": "stream",
          "name": "stdout",
          "text": [
            "Enter the starting number: 100\n",
            "Enter the ending number: 50\n",
            "Enter the step size: 2\n",
            "Generated sequence: [100, 98, 96, 94, 92, 90, 88, 86, 84, 82, 80, 78, 76, 74, 72, 70, 68, 66, 64, 62, 60, 58, 56, 54, 52]\n"
          ]
        }
      ]
    },
    {
      "cell_type": "code",
      "source": [
        "# Bai 108: Find all divisors of a number\n",
        "\n",
        "# Get user input\n",
        "n = int(input(\"Enter an integer n: \"))\n",
        "\n",
        "# Generate a list of divisors using list comprehension\n",
        "L = [i for i in range(1, n + 1) if n % i == 0]\n",
        "\n",
        "# Print the result\n",
        "print(\"The divisors of n are:\", L)\n"
      ],
      "metadata": {
        "id": "v1D9jEFwgIhm",
        "colab": {
          "base_uri": "https://localhost:8080/"
        },
        "outputId": "6705f849-f285-4f65-8c44-04b1e5ec320d"
      },
      "execution_count": 7,
      "outputs": [
        {
          "output_type": "stream",
          "name": "stdout",
          "text": [
            "Enter an integer n: 15\n",
            "The divisors of n are: [1, 3, 5, 15]\n"
          ]
        }
      ]
    }
  ]
}