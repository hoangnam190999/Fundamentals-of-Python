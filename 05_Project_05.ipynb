{
  "cells": [
    {
      "cell_type": "code",
      "execution_count": 3,
      "metadata": {
        "colab": {
          "base_uri": "https://localhost:8080/"
        },
        "id": "hVfNh5k-cz69",
        "outputId": "4e7e6962-2949-4781-a9b7-2ab7ea2acda0"
      },
      "outputs": [
        {
          "output_type": "stream",
          "name": "stdout",
          "text": [
            "Enter a number (0-9): 4\n",
            "Four\n"
          ]
        }
      ],
      "source": [
        "def get_number():\n",
        "    while True:\n",
        "        n = int(input(\"Enter a number (0-9): \"))\n",
        "        if 0 <= n <= 9:  # Ensure n is between 0 and 9\n",
        "            return n  # Return n so it can be used later\n",
        "        else:\n",
        "            print(\"Invalid input! Please enter a number between 0 and 9.\")\n",
        "\n",
        "# Function to convert the number to its English word\n",
        "def number_to_word(n):\n",
        "    match n:\n",
        "        case 0: print(\"Zero\")\n",
        "        case 1: print(\"One\")\n",
        "        case 2: print(\"Two\")\n",
        "        case 3: print(\"Three\")\n",
        "        case 4: print(\"Four\")\n",
        "        case 5: print(\"Five\")\n",
        "        case 6: print(\"Six\")\n",
        "        case 7: print(\"Seven\")\n",
        "        case 8: print(\"Eight\")\n",
        "        case 9: print(\"Nine\")\n",
        "\n",
        "# Main program\n",
        "n = get_number()  # Get a valid number from the user\n",
        "number_to_word(n)  # Print the corresponding English word\n"
      ]
    },
    {
      "cell_type": "code",
      "execution_count": 4,
      "metadata": {
        "colab": {
          "base_uri": "https://localhost:8080/"
        },
        "id": "lnaKgAENCjbu",
        "outputId": "4f236fa6-7216-4749-8d5e-b51f60254980"
      },
      "outputs": [
        {
          "output_type": "stream",
          "name": "stdout",
          "text": [
            "Enter a number: 6\n",
            "6 random numbers:\n",
            "78 78 27 32 71 86 "
          ]
        }
      ],
      "source": [
        "import random\n",
        "\n",
        "def get_number():\n",
        "    while True:\n",
        "        n = int(input(\"Enter a number: \"))\n",
        "        if n < 10 or n > 50:  # Ensure the number is either <10 or >50\n",
        "            return n  # Return the valid number\n",
        "        else:\n",
        "            print(\"Please enter a number less than 10 or greater than 50. Try again!\")\n",
        "\n",
        "def generate_random_numbers(n):\n",
        "    print(f\"{n} random numbers:\")\n",
        "    for i in range(1, n + 1):\n",
        "        print(random.randint(1, 100), end=\" \")  # Generate random numbers from 1 to 100\n",
        "\n",
        "# -------- MAIN PROGRAM --------\n",
        "n = get_number()  # Get a valid number from the user\n",
        "generate_random_numbers(n)  # Generate and display random numbers\n"
      ]
    },
    {
      "cell_type": "code",
      "execution_count": 5,
      "metadata": {
        "colab": {
          "base_uri": "https://localhost:8080/"
        },
        "id": "PsDtX5YtT2XU",
        "outputId": "ef1b8db0-2073-460a-a19f-bb1b40d0e5ab"
      },
      "outputs": [
        {
          "output_type": "stream",
          "name": "stdout",
          "text": [
            "Enter a number: 5\n",
            "\n",
            "Multiplication table of 5:\n",
            "5 × 1 = 5\n",
            "5 × 2 = 10\n",
            "5 × 3 = 15\n",
            "5 × 4 = 20\n",
            "5 × 5 = 25\n",
            "5 × 6 = 30\n",
            "5 × 7 = 35\n",
            "5 × 8 = 40\n",
            "5 × 9 = 45\n",
            "5 × 10 = 50\n"
          ]
        }
      ],
      "source": [
        "def get_number():  # Function to get user input\n",
        "    while True:  # Infinite loop until a valid number is entered\n",
        "        n = int(input(\"Enter a number: \"))\n",
        "        if n % 5 == 0:  # Check if the number is a multiple of 5\n",
        "            return n  # Return the valid number and exit the function\n",
        "        else:\n",
        "            print(\"Please enter a multiple of 5. Try again!\")\n",
        "\n",
        "def print_multiplication_table(n):\n",
        "    print(f\"\\nMultiplication table of 5:\")\n",
        "    for i in range(1, 11):  # Loop from 1 to 10\n",
        "        print(f\"5 × {i} = {5 * i}\")\n",
        "\n",
        "# -------- MAIN PROGRAM --------\n",
        "n = get_number()  # Get a valid number from the user\n",
        "print_multiplication_table(n)  # Display the multiplication table of 5\n"
      ]
    },
    {
      "cell_type": "code",
      "execution_count": 6,
      "metadata": {
        "colab": {
          "base_uri": "https://localhost:8080/"
        },
        "id": "JF4xL8D5W57n",
        "outputId": "9d6b3b49-2fe4-4503-dbc0-984dbed7ba32"
      },
      "outputs": [
        {
          "output_type": "stream",
          "name": "stdout",
          "text": [
            "Enter the number of terms (must be 2, 4, 6, 8, or 10): 5\n",
            "Invalid input! Please enter 2, 4, 6, 8, or 10.\n",
            "Enter the number of terms (must be 2, 4, 6, 8, or 10): 4\n",
            "Enter the starting number of the sequence: 1\n",
            "Enter the common difference: 2\n",
            "The generated sequence is:\n",
            "1 3 5 7 "
          ]
        }
      ],
      "source": [
        "def get_input():\n",
        "    while True:\n",
        "        n = int(input(\"Enter the number of terms (must be 2, 4, 6, 8, or 10): \"))\n",
        "        if n in (2, 4, 6, 8, 10):  # Ensure n is one of the specified values\n",
        "            a = int(input(\"Enter the starting number of the sequence: \"))\n",
        "            b = int(input(\"Enter the common difference: \"))\n",
        "            return a, b, n\n",
        "        else:\n",
        "            print(\"Invalid input! Please enter 2, 4, 6, 8, or 10.\")\n",
        "\n",
        "def generate_sequence(a, b, n):\n",
        "    print(\"The generated sequence is:\")\n",
        "    for i in range(n):\n",
        "        print(a, end=\" \")\n",
        "        a += b  # Increment by common difference\n",
        "\n",
        "# -------- MAIN PROGRAM --------\n",
        "a, b, n = get_input()  # Get user input\n",
        "generate_sequence(a, b, n)  # Generate and display the arithmetic sequence\n"
      ]
    },
    {
      "cell_type": "code",
      "execution_count": 7,
      "metadata": {
        "colab": {
          "base_uri": "https://localhost:8080/"
        },
        "id": "rIGaW_0TZo0l",
        "outputId": "c7a552d0-148c-46b7-d577-6232d914b7cc"
      },
      "outputs": [
        {
          "output_type": "stream",
          "name": "stdout",
          "text": [
            "\n",
            "\n",
            "========= PROGRAM TO CALCULATE SUMS =========\n",
            "0. Enter n\n",
            "1. S = 1 + 2 + 3 + ... + n\n",
            "2. S = 1 + 3 + 5 + ... + (2n+1)\n",
            "3. S = 1 + 1/2 + 1/3 + ... + 1/n\n",
            "4. S = 1 + 1/3 + 1/5 + ... + 1/(2n+1)\n",
            "9. Exit program\n",
            "Choose an option: 1\n",
            "Sum of numbers from 1 to 5 is 15\n",
            "\n",
            "\n",
            "========= PROGRAM TO CALCULATE SUMS =========\n",
            "0. Enter n\n",
            "1. S = 1 + 2 + 3 + ... + n\n",
            "2. S = 1 + 3 + 5 + ... + (2n+1)\n",
            "3. S = 1 + 1/2 + 1/3 + ... + 1/n\n",
            "4. S = 1 + 1/3 + 1/5 + ... + 1/(2n+1)\n",
            "9. Exit program\n",
            "Choose an option: 2\n",
            "Sum of odd numbers from 1 to 11 is 36\n",
            "\n",
            "\n",
            "========= PROGRAM TO CALCULATE SUMS =========\n",
            "0. Enter n\n",
            "1. S = 1 + 2 + 3 + ... + n\n",
            "2. S = 1 + 3 + 5 + ... + (2n+1)\n",
            "3. S = 1 + 1/2 + 1/3 + ... + 1/n\n",
            "4. S = 1 + 1/3 + 1/5 + ... + 1/(2n+1)\n",
            "9. Exit program\n",
            "Choose an option: 3\n",
            "Sum of harmonic series up to 1/5 is 2.2833\n",
            "\n",
            "\n",
            "========= PROGRAM TO CALCULATE SUMS =========\n",
            "0. Enter n\n",
            "1. S = 1 + 2 + 3 + ... + n\n",
            "2. S = 1 + 3 + 5 + ... + (2n+1)\n",
            "3. S = 1 + 1/2 + 1/3 + ... + 1/n\n",
            "4. S = 1 + 1/3 + 1/5 + ... + 1/(2n+1)\n",
            "9. Exit program\n",
            "Choose an option: 9\n",
            "Bye Bye!\n"
          ]
        }
      ],
      "source": [
        "def menu():\n",
        "    n = 5  # Default value of n\n",
        "    while True:\n",
        "        # Display menu\n",
        "        print(\"\\n\\n========= PROGRAM TO CALCULATE SUMS =========\")\n",
        "        print(\"0. Enter n\")\n",
        "        print(\"1. S = 1 + 2 + 3 + ... + n\")\n",
        "        print(\"2. S = 1 + 3 + 5 + ... + (2n+1)\")\n",
        "        print(\"3. S = 1 + 1/2 + 1/3 + ... + 1/n\")\n",
        "        print(\"4. S = 1 + 1/3 + 1/5 + ... + 1/(2n+1)\")\n",
        "        print(\"9. Exit program\")\n",
        "\n",
        "        choice = int(input(\"Choose an option: \"))\n",
        "\n",
        "        # Process the user's choice\n",
        "        match choice:\n",
        "            case 0:\n",
        "                n = enter_number()\n",
        "            case 1:\n",
        "                sum_natural(n)\n",
        "            case 2:\n",
        "                sum_odd_numbers(n)\n",
        "            case 3:\n",
        "                sum_harmonic(n)\n",
        "            case 4:\n",
        "                sum_odd_harmonic(n)\n",
        "            case 9:\n",
        "                print(\"Bye Bye!\")\n",
        "                break\n",
        "            case _:\n",
        "                print(\"Invalid choice! Please enter a valid option.\")\n",
        "\n",
        "# Function to enter a valid number\n",
        "def enter_number():\n",
        "    while True:\n",
        "        n = int(input(\"Enter a number (>0): \"))\n",
        "        if n > 0:\n",
        "            return n\n",
        "        else:\n",
        "            print(\"Only numbers > 0 are accepted. Please try again.\")\n",
        "\n",
        "# Function to calculate S = 1 + 2 + 3 + ... + n\n",
        "def sum_natural(n):\n",
        "    total = sum(range(1, n+1))\n",
        "    print(f\"Sum of numbers from 1 to {n} is {total}\")\n",
        "\n",
        "# Function to calculate S = 1 + 3 + 5 + ... + (2n+1)\n",
        "def sum_odd_numbers(n):\n",
        "    total = sum(2*i+1 for i in range(n+1))\n",
        "    print(f\"Sum of odd numbers from 1 to {2*n+1} is {total}\")\n",
        "\n",
        "# Function to calculate S = 1 + 1/2 + 1/3 + ... + 1/n\n",
        "def sum_harmonic(n):\n",
        "    total = sum(1/i for i in range(1, n+1))\n",
        "    print(f\"Sum of harmonic series up to 1/{n} is {total:.4f}\")\n",
        "\n",
        "# Function to calculate S = 1 + 1/3 + 1/5 + ... + 1/(2n+1)\n",
        "def sum_odd_harmonic(n):\n",
        "    total = sum(1/(2*i+1) for i in range(n+1))\n",
        "    print(f\"Sum of odd harmonic series up to 1/{2*n+1} is {total:.4f}\")\n",
        "\n",
        "# MAIN PROGRAM\n",
        "menu()\n"
      ]
    },
    {
      "cell_type": "code",
      "execution_count": 8,
      "metadata": {
        "id": "K3Con-l4JdMY",
        "colab": {
          "base_uri": "https://localhost:8080/"
        },
        "outputId": "bb748e31-9b6f-49ca-8c34-77410e575f71"
      },
      "outputs": [
        {
          "output_type": "stream",
          "name": "stdout",
          "text": [
            "\n",
            "\n",
            "========= SUM PROGRAM =========\n",
            "0. Enter n\n",
            "1. S = 1 + 2 + 3 + ... + n\n",
            "9. Exit program\n",
            "Choose an option: 1\n",
            "Sum of numbers from 1 to 5 is 15\n",
            "\n",
            "\n",
            "========= SUM PROGRAM =========\n",
            "0. Enter n\n",
            "1. S = 1 + 2 + 3 + ... + n\n",
            "9. Exit program\n",
            "Choose an option: 9\n",
            "Bye Bye!\n"
          ]
        }
      ],
      "source": [
        "def menu():\n",
        "    n = 5  # Default value of n\n",
        "    while True:\n",
        "        # Display menu\n",
        "        print(\"\\n\\n========= SUM PROGRAM =========\")\n",
        "        print(\"0. Enter n\")\n",
        "        print(\"1. S = 1 + 2 + 3 + ... + n\")\n",
        "        print(\"9. Exit program\")\n",
        "\n",
        "        chon = int(input(\"Choose an option: \"))\n",
        "\n",
        "        # Process the user's choice\n",
        "        match chon:\n",
        "            case 0:\n",
        "                n = enter_number()\n",
        "            case 1:\n",
        "                sum_natural(n)\n",
        "            case 9:\n",
        "                print(\"Bye Bye!\")\n",
        "                break\n",
        "            case _:\n",
        "                print(\"Invalid choice! Please enter a valid option.\")\n",
        "\n",
        "# Function to enter a valid number\n",
        "def enter_number():\n",
        "    while True:\n",
        "        n = int(input(\"Enter a number (>0): \"))\n",
        "        if n > 0:\n",
        "            return n\n",
        "        else:\n",
        "            print(\"Only numbers > 0 are accepted. Please try again.\")\n",
        "\n",
        "# Function to calculate S = 1 + 2 + 3 + ... + n\n",
        "def sum_natural(n):\n",
        "    total = (n * (n + 1)) // 2  # Using formula for sum of first n numbers\n",
        "    print(f\"Sum of numbers from 1 to {n} is {total}\")\n",
        "\n",
        "# MAIN PROGRAM\n",
        "menu()\n"
      ]
    },
    {
      "cell_type": "code",
      "execution_count": 9,
      "metadata": {
        "colab": {
          "base_uri": "https://localhost:8080/"
        },
        "id": "MwPIL08cPEsJ",
        "outputId": "66deb934-a4d4-4139-ce1d-132e66ca8e92"
      },
      "outputs": [
        {
          "output_type": "stream",
          "name": "stdout",
          "text": [
            "\n",
            "\n",
            "========= SUM & PRODUCT PROGRAM =========\n",
            "0. Enter n\n",
            "1. S = 1 + 2 + 3 + ... + n\n",
            "2. S = 1 + 3 + 5 + ... + (2n-1)\n",
            "3. S = 1 + 1/2 + 1/3 + ... + 1/n\n",
            "4. S = 1/2 + 1/3 + 1/4 + ... + 1/(n+1)\n",
            "5. S = 1/2 + 1/4 + 1/6 + ... + 1/(2n)\n",
            "6. S = (1) + (1+2) + (1+2+3) + ... + (1+2+3+...+n)\n",
            "7. S = 1 * 2 * 3 * ... * n\n",
            "8. S = (1) * (1+2) * (1+2+3) * ... * (1+2+3+...+n)\n",
            "9. Exit Program\n",
            "Choose an option: 2\n",
            "Sum of first 5 odd numbers is 25\n",
            "\n",
            "\n",
            "========= SUM & PRODUCT PROGRAM =========\n",
            "0. Enter n\n",
            "1. S = 1 + 2 + 3 + ... + n\n",
            "2. S = 1 + 3 + 5 + ... + (2n-1)\n",
            "3. S = 1 + 1/2 + 1/3 + ... + 1/n\n",
            "4. S = 1/2 + 1/3 + 1/4 + ... + 1/(n+1)\n",
            "5. S = 1/2 + 1/4 + 1/6 + ... + 1/(2n)\n",
            "6. S = (1) + (1+2) + (1+2+3) + ... + (1+2+3+...+n)\n",
            "7. S = 1 * 2 * 3 * ... * n\n",
            "8. S = (1) * (1+2) * (1+2+3) * ... * (1+2+3+...+n)\n",
            "9. Exit Program\n",
            "Choose an option: 9\n",
            "Bye Bye!\n"
          ]
        }
      ],
      "source": [
        "def menu():\n",
        "    n = 5  # Default value\n",
        "    while True:\n",
        "        # Display menu\n",
        "        print(\"\\n\\n========= SUM & PRODUCT PROGRAM =========\")\n",
        "        print(\"0. Enter n\")\n",
        "        print(\"1. S = 1 + 2 + 3 + ... + n\")\n",
        "        print(\"2. S = 1 + 3 + 5 + ... + (2n-1)\")\n",
        "        print(\"3. S = 1 + 1/2 + 1/3 + ... + 1/n\")\n",
        "        print(\"4. S = 1/2 + 1/3 + 1/4 + ... + 1/(n+1)\")\n",
        "        print(\"5. S = 1/2 + 1/4 + 1/6 + ... + 1/(2n)\")\n",
        "        print(\"6. S = (1) + (1+2) + (1+2+3) + ... + (1+2+3+...+n)\")\n",
        "        print(\"7. S = 1 * 2 * 3 * ... * n\")\n",
        "        print(\"8. S = (1) * (1+2) * (1+2+3) * ... * (1+2+3+...+n)\")\n",
        "        print(\"9. Exit Program\")\n",
        "\n",
        "        choice = int(input(\"Choose an option: \"))\n",
        "\n",
        "        # Handle user's choice\n",
        "        match choice:\n",
        "            case 0: n = enter_number()\n",
        "            case 1: sum_natural(n)\n",
        "            case 2: sum_odd(n)\n",
        "            case 3: sum_fractional(n)\n",
        "            case 4: sum_fractional_shift(n)\n",
        "            case 5: sum_even_fraction(n)\n",
        "            case 6: sum_partial_series(n)\n",
        "            case 7: product_natural(n)\n",
        "            case 8: product_partial_series(n)\n",
        "            case 9:\n",
        "                print(\"Bye Bye!\")\n",
        "                break\n",
        "            case _:\n",
        "                print(\"Invalid choice! Please enter a valid option.\")\n",
        "\n",
        "# Function to get a valid number\n",
        "def enter_number():\n",
        "    while True:\n",
        "        n = int(input(\"Enter a number (>0): \"))\n",
        "        if n > 0:\n",
        "            return n\n",
        "        else:\n",
        "            print(\"Only numbers > 0 are accepted. Please try again.\")\n",
        "\n",
        "# 1. S = 1 + 2 + 3 + ... + n\n",
        "def sum_natural(n):\n",
        "    total = (n * (n + 1)) // 2  # Efficient formula\n",
        "    print(f\"Sum of numbers from 1 to {n} is {total}\")\n",
        "\n",
        "# 2. S = 1 + 3 + 5 + ... + (2n-1)\n",
        "def sum_odd(n):\n",
        "    total = n ** 2  # Formula: Sum of first n odd numbers = n^2\n",
        "    print(f\"Sum of first {n} odd numbers is {total}\")\n",
        "\n",
        "# 3. S = 1 + 1/2 + 1/3 + ... + 1/n\n",
        "def sum_fractional(n):\n",
        "    total = sum(1 / i for i in range(1, n + 1))\n",
        "    print(f\"Sum S = 1 + 1/2 + ... + 1/{n} is {total:.6f}\")\n",
        "\n",
        "# 4. S = 1/2 + 1/3 + 1/4 + ... + 1/(n+1)\n",
        "def sum_fractional_shift(n):\n",
        "    total = sum(1 / (i + 1) for i in range(1, n + 1))\n",
        "    print(f\"Sum S = 1/2 + 1/3 + ... + 1/(n+1) is {total:.6f}\")\n",
        "\n",
        "# 5. S = 1/2 + 1/4 + 1/6 + ... + 1/(2n)\n",
        "def sum_even_fraction(n):\n",
        "    total = sum(1 / (2 * i) for i in range(1, n + 1))\n",
        "    print(f\"Sum S = 1/2 + 1/4 + ... + 1/(2n) is {total:.6f}\")\n",
        "\n",
        "# 6. S = (1) + (1+2) + (1+2+3) + ... + (1+2+3+...+n)\n",
        "def sum_partial_series(n):\n",
        "    total = (n * (n + 1) * (n + 2)) // 6  # Formula for sum of triangular numbers\n",
        "    print(f\"Sum of series (1) + (1+2) + ... + (1+2+3+...+n) is {total}\")\n",
        "\n",
        "# 7. S = 1 * 2 * 3 * ... * n\n",
        "def product_natural(n):\n",
        "    product = 1\n",
        "    for i in range(1, n + 1):\n",
        "        product *= i\n",
        "    print(f\"Product S = 1 * 2 * ... * n is {product}\")\n",
        "\n",
        "# 8. S = (1) * (1+2) * (1+2+3) * ... * (1+2+3+...+n)\n",
        "def product_partial_series(n):\n",
        "    product = 1\n",
        "    for i in range(1, n + 1):\n",
        "        product *= (i * (i + 1)) // 2  # Using sum formula\n",
        "    print(f\"Product S = (1) * (1+2) * ... * (1+2+3+...+n) is {product}\")\n",
        "\n",
        "# Main program\n",
        "menu()\n"
      ]
    }
  ],
  "metadata": {
    "colab": {
      "provenance": []
    },
    "kernelspec": {
      "display_name": "Python 3",
      "name": "python3"
    },
    "language_info": {
      "name": "python"
    }
  },
  "nbformat": 4,
  "nbformat_minor": 0
}