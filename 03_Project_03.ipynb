{
  "nbformat": 4,
  "nbformat_minor": 0,
  "metadata": {
    "colab": {
      "provenance": []
    },
    "kernelspec": {
      "name": "python3",
      "display_name": "Python 3"
    },
    "language_info": {
      "name": "python"
    }
  },
  "cells": [
    {
      "cell_type": "code",
      "execution_count": 1,
      "metadata": {
        "id": "Pisg6lWpwrTG",
        "colab": {
          "base_uri": "https://localhost:8080/"
        },
        "outputId": "13de10b9-abd8-43a2-8c81-3856d3731409"
      },
      "outputs": [
        {
          "output_type": "stream",
          "name": "stdout",
          "text": [
            "Exercise 27_Page6\n",
            "Enter a positive integer n: 2\n",
            "Number: 1\n",
            "Number: 2\n",
            "Bye bye\n"
          ]
        }
      ],
      "source": [
        "print(\"Exercise 27_Page6\")\n",
        "\n",
        "n = int(input(\"Enter a positive integer n: \"))\n",
        "a = 1\n",
        "\n",
        "while a <= n:\n",
        "    print(\"Number:\", a)\n",
        "    a += 1\n",
        "\n",
        "print(\"Bye bye\")"
      ]
    },
    {
      "cell_type": "code",
      "source": [
        "# Exercise 27 - Part 3\n",
        "tam = 1\n",
        "total = 0\n",
        "\n",
        "while tam <= n:\n",
        "    total += tam\n",
        "    tam += 1\n",
        "\n",
        "print(\"Sum of numbers from 1 to {}: {}\".format(n, total))\n"
      ],
      "metadata": {
        "colab": {
          "base_uri": "https://localhost:8080/"
        },
        "id": "_ZIIe4-Eyip6",
        "outputId": "a90efdb9-c61d-4500-d9d1-85e83ff3b845"
      },
      "execution_count": 5,
      "outputs": [
        {
          "output_type": "stream",
          "name": "stdout",
          "text": [
            "Sum of numbers from 1 to 2: 3\n"
          ]
        }
      ]
    },
    {
      "cell_type": "code",
      "source": [
        "# Exercise 27 - Part 4: Sum of even numbers less than n\n",
        "tam = 1\n",
        "total = 0\n",
        "\n",
        "while tam < n:\n",
        "    if tam % 2 == 0:\n",
        "        total += tam\n",
        "    tam += 1\n",
        "\n",
        "print(\"Sum of even numbers less than {}: {}\".format(n, total))\n"
      ],
      "metadata": {
        "colab": {
          "base_uri": "https://localhost:8080/"
        },
        "id": "KLCt277Fylms",
        "outputId": "0816305b-9467-463c-c59a-05098c49eae7"
      },
      "execution_count": 6,
      "outputs": [
        {
          "output_type": "stream",
          "name": "stdout",
          "text": [
            "Sum of even numbers less than 2: 0\n"
          ]
        }
      ]
    },
    {
      "cell_type": "code",
      "source": [
        "# Exercise 27 - Part 5: Print even divisors and their sum\n",
        "tam = 1\n",
        "total = 0\n",
        "\n",
        "print(f\"Even divisors of {n} are: \", end=\" \")\n",
        "\n",
        "while tam < n:\n",
        "    if tam % 2 == 0 and n % tam == 0:\n",
        "        print(tam, end=\" \")\n",
        "        total += tam\n",
        "    tam += 1\n",
        "\n",
        "print(\"\\nSum of even divisors of {} is {}\".format(n, total))\n"
      ],
      "metadata": {
        "colab": {
          "base_uri": "https://localhost:8080/"
        },
        "id": "HR7I9naryoto",
        "outputId": "0bc45e80-a9d1-42a7-e5e4-41a86570a927"
      },
      "execution_count": null,
      "outputs": [
        {
          "output_type": "stream",
          "name": "stdout",
          "text": [
            "Cac uoc so chan cua 15 la;  Tong cac uoc so chan cua 15 la 0\n"
          ]
        }
      ]
    },
    {
      "cell_type": "code",
      "source": [
        "# Exercise 27 - Part 6: Find the largest even number less than n\n",
        "\n",
        "if n % 2 == 0:  # Check if n is an even number\n",
        "    f = n - 2  # If n is even, the nearest smaller even number is n-2\n",
        "else:\n",
        "    f = n - 1  # If n is odd, subtract 1 to get the nearest even number\n",
        "\n",
        "print(\"The largest even number less than\", n, \"is\", f)\n"
      ],
      "metadata": {
        "colab": {
          "base_uri": "https://localhost:8080/"
        },
        "id": "exuw6-rIyrUD",
        "outputId": "8d1ea061-c197-4fa0-aa4a-6ff89991f645"
      },
      "execution_count": 7,
      "outputs": [
        {
          "output_type": "stream",
          "name": "stdout",
          "text": [
            "The largest even number less than 2 is 0\n"
          ]
        }
      ]
    },
    {
      "cell_type": "code",
      "source": [
        "# Exercise 27 - Part 7: Find the largest odd divisor\n",
        "\n",
        "us = n // 2  # Start checking from n//2\n",
        "\n",
        "while us > 0:\n",
        "    if n % us == 0 and us % 2 == 1:  # Check if 'us' is an odd divisor\n",
        "        break\n",
        "    us -= 1\n",
        "\n",
        "print(\"The largest odd divisor of {} is {}\".format(n, us))"
      ],
      "metadata": {
        "id": "eih9R8elytvS"
      },
      "execution_count": null,
      "outputs": []
    },
    {
      "cell_type": "code",
      "source": [
        "# Exercise 37 - Part 7: Sum and product of digits\n",
        "\n",
        "n = int(input(\"Enter a positive integer: \"))\n",
        "sum_digits = 0\n",
        "product_digits = 1\n",
        "\n",
        "while n > 0:\n",
        "    digit = n % 10  # Extract the last digit\n",
        "    n = n // 10  # Remove the last digit\n",
        "    sum_digits += digit  # Add to sum\n",
        "    product_digits *= digit  # Multiply to product\n",
        "\n",
        "print(\"Sum =\", sum_digits)\n",
        "print(\"Product =\", product_digits)\n"
      ],
      "metadata": {
        "id": "qttLDRbfzojC",
        "outputId": "7f39cba1-dc8e-4873-fd21-3eadfd02a8fe",
        "colab": {
          "base_uri": "https://localhost:8080/"
        }
      },
      "execution_count": 9,
      "outputs": [
        {
          "output_type": "stream",
          "name": "stdout",
          "text": [
            "Enter a positive integer: 6\n",
            "Sum = 6\n",
            "Product = 6\n"
          ]
        }
      ]
    },
    {
      "cell_type": "code",
      "source": [
        "# Exercise 38: Count even and odd digits\n",
        "\n",
        "n = int(input(\"Enter a positive integer n: \"))\n",
        "\n",
        "# Initialize counters\n",
        "count_even = 0  # Count of even digits\n",
        "count_odd = 0   # Count of odd digits\n",
        "\n",
        "# Loop through each digit of n\n",
        "temp = abs(n)  # Take the absolute value of n to handle negative numbers\n",
        "while temp > 0:\n",
        "    digit = temp % 10  # Get the last digit\n",
        "    if digit % 2 == 0:  # Check if the digit is even\n",
        "        count_even += 1\n",
        "    else:  # If not even, it must be odd\n",
        "        count_odd += 1\n",
        "    temp //= 10  # Remove the last digit\n",
        "\n",
        "print(\"Number of even digits:\", count_even)\n",
        "print(\"Number of odd digits:\", count_odd)\n"
      ],
      "metadata": {
        "colab": {
          "base_uri": "https://localhost:8080/"
        },
        "id": "KmpQ_YYYIQDe",
        "outputId": "0e4b71ec-d8dc-48f5-ea9b-f1b3f7183e93"
      },
      "execution_count": 10,
      "outputs": [
        {
          "output_type": "stream",
          "name": "stdout",
          "text": [
            "Enter a positive integer n: 234543\n",
            "Number of even digits: 3\n",
            "Number of odd digits: 3\n"
          ]
        }
      ]
    },
    {
      "cell_type": "code",
      "source": [
        "# Exercise 38: Count even and odd digits\n",
        "\n",
        "print(\"Exercise 38\")\n",
        "n = int(input(\"Enter a positive integer n: \"))\n",
        "\n",
        "count_odd = 0\n",
        "count_even = 0\n",
        "\n",
        "temp = abs(n)  # Take the absolute value to handle negative numbers\n",
        "while temp > 0:\n",
        "    digit = temp % 10  # Extract the last digit\n",
        "    if digit % 2 == 0:\n",
        "        count_even += 1  # Increment even digit count\n",
        "    else:\n",
        "        count_odd += 1  # Increment odd digit count\n",
        "    temp //= 10  # Remove the last digit\n",
        "\n",
        "print(\"Number of even digits:\", count_even)\n",
        "print(\"Number of odd digits:\", count_odd)"
      ],
      "metadata": {
        "colab": {
          "base_uri": "https://localhost:8080/"
        },
        "id": "hPwZAXlhvovu",
        "outputId": "421ade16-501d-4b16-c515-7b9d8c856aa1"
      },
      "execution_count": 11,
      "outputs": [
        {
          "output_type": "stream",
          "name": "stdout",
          "text": [
            "Exercise 38\n",
            "Enter a positive integer n: 23212\n",
            "Number of even digits: 3\n",
            "Number of odd digits: 2\n"
          ]
        }
      ]
    },
    {
      "cell_type": "code",
      "source": [
        "# Exercise 39: Find the largest digit in an integer\n",
        "\n",
        "n = int(input(\"Enter an integer n: \"))\n",
        "\n",
        "temp = abs(n)  # Take the absolute value to handle negative numbers\n",
        "\n",
        "max_digit = 0  # Initialize variable to store the largest digit\n",
        "\n",
        "# Iterate through each digit of n\n",
        "while temp > 0:\n",
        "    digit = temp % 10  # Extract the last digit\n",
        "    if digit > max_digit:  # Compare with the current largest digit\n",
        "        max_digit = digit\n",
        "    temp //= 10  # Remove the last digit\n",
        "\n",
        "print(\"The largest digit in {} is: {}\".format(n, max_digit))"
      ],
      "metadata": {
        "colab": {
          "base_uri": "https://localhost:8080/"
        },
        "id": "MT3RAqPyJkwb",
        "outputId": "346546fb-ceaa-4c05-c2de-10b1535b998e"
      },
      "execution_count": 12,
      "outputs": [
        {
          "output_type": "stream",
          "name": "stdout",
          "text": [
            "Enter an integer n: 345321\n",
            "The largest digit in 345321 is: 5\n"
          ]
        }
      ]
    },
    {
      "cell_type": "code",
      "source": [
        "# Exercise 39\n",
        "print(\"Exercise 39\")\n",
        "n = int(input(\"Enter an integer n: \"))\n",
        "temp = abs(n)  # Take the absolute value to handle negative numbers\n",
        "largest_digit = 0  # Initialize the variable to store the largest digit\n",
        "\n",
        "while temp > 0:\n",
        "    digit = temp % 10  # Extract the last digit\n",
        "    if digit > largest_digit:  # Compare with the current largest digit\n",
        "        largest_digit = digit\n",
        "    temp //= 10  # Remove the last digit\n",
        "\n",
        "print(\"The largest digit in {} is: {}\".format(n, largest_digit))"
      ],
      "metadata": {
        "colab": {
          "base_uri": "https://localhost:8080/"
        },
        "id": "NAvzDouRwNrU",
        "outputId": "28ea9098-f77f-43be-d043-34014649b554"
      },
      "execution_count": 13,
      "outputs": [
        {
          "output_type": "stream",
          "name": "stdout",
          "text": [
            "Exercise 39\n",
            "Enter an integer n: 122232\n",
            "The largest digit in 122232 is: 3\n"
          ]
        }
      ]
    },
    {
      "cell_type": "code",
      "source": [
        "# Exercise 41\n",
        "n = int(input(\"Enter an integer n: \"))\n",
        "\n",
        "# List of words for digits in Vietnamese (translated to English)\n",
        "units = ['zero', 'one', 'two', 'three', 'four', 'five', 'six', 'seven', 'eight', 'nine']\n",
        "\n",
        "original_n = n\n",
        "word_representation = \"\"\n",
        "\n",
        "if n < 0:\n",
        "    prefix = \"negative\"\n",
        "    abs_n = -n  # Convert to positive for processing\n",
        "else:\n",
        "    prefix = \"\"\n",
        "    abs_n = n\n",
        "\n",
        "# Convert digits to words\n",
        "while abs_n > 0:\n",
        "    digit = abs_n % 10  # Extract last digit\n",
        "    word_representation = units[digit] + \" \" + word_representation  # Prepend the word\n",
        "    abs_n //= 10  # Remove last digit\n",
        "\n",
        "# Print the number in words\n",
        "print(n, \"is read as:\", (prefix + \" \" + word_representation).strip())\n"
      ],
      "metadata": {
        "id": "oJENn3VjL5Y7",
        "colab": {
          "base_uri": "https://localhost:8080/"
        },
        "outputId": "c278e794-debc-4960-e274-c93ef217a21f"
      },
      "execution_count": 14,
      "outputs": [
        {
          "output_type": "stream",
          "name": "stdout",
          "text": [
            "Enter an integer n: -1093\n",
            "-1093 is read as: negative one zero nine three\n"
          ]
        }
      ]
    },
    {
      "cell_type": "code",
      "source": [
        "# Exercise 41 (Method 1)\n",
        "n = int(input(\"Enter an integer n: \"))\n",
        "\n",
        "# Determine the largest power of 10 ≤ n\n",
        "k = 1\n",
        "while k * 10 <= n:\n",
        "    k = k * 10\n",
        "\n",
        "print(k)  # Print the largest power of 10 ≤\n"
      ],
      "metadata": {
        "colab": {
          "base_uri": "https://localhost:8080/"
        },
        "id": "Qg7_xM5-8XVh",
        "outputId": "8a92e206-a585-4a7f-ec9f-023ec65cdf8b"
      },
      "execution_count": 15,
      "outputs": [
        {
          "output_type": "stream",
          "name": "stdout",
          "text": [
            "Enter an integer n: 5\n",
            "1\n"
          ]
        }
      ]
    },
    {
      "cell_type": "code",
      "source": [
        "n = int(input(\"Enter number n: \"))\n",
        "no = n\n",
        "w = \"\"\n",
        "if n < 0:\n",
        "    wr = 'am'\n",
        "    nd = -n\n",
        "else:\n",
        "    wr = \"\"\n",
        "    nd = n\n",
        "while nd > 0 :\n",
        "    a = nd % 10\n",
        "    match a:\n",
        "        case 0:\n",
        "            ai = 'khong'\n",
        "        case 1:\n",
        "            ai = 'mot'\n",
        "        case 2:\n",
        "            ai = 'hai'\n",
        "        case 3:\n",
        "            ai = 'ba'\n",
        "        case 4:\n",
        "            ai = 'bon'\n",
        "        case 5:\n",
        "            ai = 'nam'\n",
        "        case 6:\n",
        "            ai = 'sau'\n",
        "        case 7:\n",
        "            ai = 'bay'\n",
        "        case 8:\n",
        "            ai = 'tam'\n",
        "        case _:\n",
        "            ai = 'chin'\n",
        "    nd //= 10\n",
        "    w = ai + \" \" + w\n",
        "print (n, \"doc la: \", (wr + \" \" + w).strip())"
      ],
      "metadata": {
        "colab": {
          "base_uri": "https://localhost:8080/"
        },
        "id": "GAMvFX6H1vOp",
        "outputId": "b2ef0191-7ce3-413f-f8d8-1245c14a0119"
      },
      "execution_count": null,
      "outputs": [
        {
          "output_type": "stream",
          "name": "stdout",
          "text": [
            "Enter number n: -104\n",
            "-104 doc la:  am mot khong bon\n"
          ]
        }
      ]
    },
    {
      "cell_type": "code",
      "source": [],
      "metadata": {
        "id": "ZqG_rrlv2kQW"
      },
      "execution_count": null,
      "outputs": []
    }
  ]
}