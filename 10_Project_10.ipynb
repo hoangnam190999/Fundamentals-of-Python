{
  "nbformat": 4,
  "nbformat_minor": 0,
  "metadata": {
    "colab": {
      "provenance": []
    },
    "kernelspec": {
      "name": "python3",
      "display_name": "Python 3"
    },
    "language_info": {
      "name": "python"
    }
  },
  "cells": [
    {
      "cell_type": "code",
      "execution_count": 1,
      "metadata": {
        "colab": {
          "base_uri": "https://localhost:8080/"
        },
        "id": "r28F8urKozPR",
        "outputId": "40924035-e061-4377-dd3f-dbfa2b454f82"
      },
      "outputs": [
        {
          "output_type": "stream",
          "name": "stdout",
          "text": [
            "Enter a string S: 123\n",
            "Sum of numeric digits in S (comprehension): 6\n",
            "Number of numeric digits in S (Anonymous function): 3\n"
          ]
        }
      ],
      "source": [
        "S = input(\"Enter a string S: \")\n",
        "\n",
        "# Count the sum of numeric digits in S using list comprehension\n",
        "digit_sum = sum(int(c) for c in S if c.isdigit())\n",
        "print(f\"Sum of numeric digits in S (comprehension): {digit_sum}\")\n",
        "\n",
        "# Count the number of numeric digits in S using an anonymous function (lambda with filter)\n",
        "digit_count = len(list(filter(lambda x: x.isdigit(), S)))\n",
        "print(f\"Number of numeric digits in S (Anonymous function): {digit_count}\")\n"
      ]
    },
    {
      "cell_type": "code",
      "source": [
        "S = input(\"Enter a string S: \")\n",
        "print(sum(1 for i in S if i.isnumeric()))\n"
      ],
      "metadata": {
        "colab": {
          "base_uri": "https://localhost:8080/"
        },
        "id": "ne2FPH2rutbj",
        "outputId": "3171fc2a-2917-4e6e-d6e7-5f774b5d7793"
      },
      "execution_count": 2,
      "outputs": [
        {
          "output_type": "stream",
          "name": "stdout",
          "text": [
            "Enter a string S: 123\n",
            "3\n"
          ]
        }
      ]
    },
    {
      "cell_type": "code",
      "source": [
        "import random\n",
        "\n",
        "n = int(input(\"Enter an integer n: \"))\n",
        "L = [random.randint(-100, 100) for _ in range(n)]\n",
        "print(\"Original list L:\", L)\n",
        "\n",
        "M1 = [x for x in L if x > 0]\n",
        "print(\"M1:\", M1)\n",
        "\n",
        "M2 = lambda lst: [x for x in lst if x > 0]\n",
        "print(\"M2:\", M2(L))\n"
      ],
      "metadata": {
        "colab": {
          "base_uri": "https://localhost:8080/"
        },
        "id": "6QbKYITNpI1X",
        "outputId": "ab2b09d5-960a-4b3d-9767-3246fd33baa8"
      },
      "execution_count": 3,
      "outputs": [
        {
          "output_type": "stream",
          "name": "stdout",
          "text": [
            "Enter an integer n: 123\n",
            "Original list L: [-34, 42, -30, 81, 55, 85, -82, 33, 82, 36, 3, -55, 45, 17, 46, -7, 67, -13, -8, 53, 85, -86, 17, 85, 56, 1, 21, -20, -49, 77, 14, 100, 98, 0, 95, -22, -14, -5, -20, 26, -31, -78, -90, 38, -38, 86, 52, 25, 23, 42, 39, 23, -48, -82, -25, -88, 100, -16, -62, 55, 55, -30, 58, 63, 76, 36, -52, 81, -83, 8, 69, 2, 47, 2, -37, -72, -77, -70, -85, 78, 10, 33, -94, -33, -97, -51, -45, 70, 40, 57, 5, -4, 49, 68, -7, -40, -69, 82, 67, -22, 32, -78, 89, 1, 88, -10, -64, 85, -3, 0, 29, -80, 100, 59, 15, 47, -29, 16, -46, -70, 58, 74, 95]\n",
            "M1: [42, 81, 55, 85, 33, 82, 36, 3, 45, 17, 46, 67, 53, 85, 17, 85, 56, 1, 21, 77, 14, 100, 98, 95, 26, 38, 86, 52, 25, 23, 42, 39, 23, 100, 55, 55, 58, 63, 76, 36, 81, 8, 69, 2, 47, 2, 78, 10, 33, 70, 40, 57, 5, 49, 68, 82, 67, 32, 89, 1, 88, 85, 29, 100, 59, 15, 47, 16, 58, 74, 95]\n",
            "M2: [42, 81, 55, 85, 33, 82, 36, 3, 45, 17, 46, 67, 53, 85, 17, 85, 56, 1, 21, 77, 14, 100, 98, 95, 26, 38, 86, 52, 25, 23, 42, 39, 23, 100, 55, 55, 58, 63, 76, 36, 81, 8, 69, 2, 47, 2, 78, 10, 33, 70, 40, 57, 5, 49, 68, 82, 67, 32, 89, 1, 88, 85, 29, 100, 59, 15, 47, 16, 58, 74, 95]\n"
          ]
        }
      ]
    },
    {
      "cell_type": "code",
      "source": [
        "import random\n",
        "\n",
        "n = int(input(\"Enter an integer n: \"))\n",
        "L = [random.randint(-100, 100) for _ in range(n)]\n",
        "print(\"Original list L:\", L)\n",
        "\n",
        "# Using list comprehensions\n",
        "print(\"------Comprehension------\")\n",
        "list_duong = [x for x in L if x > 0]\n",
        "print(\"Positive numbers:\", list_duong)\n",
        "\n",
        "list_am = [x for x in L if x < 0]\n",
        "print(\"Negative numbers:\", list_am)\n",
        "\n",
        "L1 = list_duong + list_am\n",
        "print(\"Resulting list L1:\", L1)\n",
        "\n",
        "# Using lambda functions\n",
        "print(\"-------Lambda------\")\n",
        "list_duong2 = lambda lst: [x for x in lst if x > 0]\n",
        "print(\"Positive numbers (Lambda):\", list_duong2(L))\n",
        "\n",
        "list_am2 = lambda lst: [x for x in lst if x < 0]\n",
        "print(\"Negative numbers (Lambda):\", list_am2(L))\n",
        "\n",
        "L2 = list_duong2(L) + list_am2(L)\n",
        "print(\"Resulting list L2:\", L2)\n"
      ],
      "metadata": {
        "colab": {
          "base_uri": "https://localhost:8080/"
        },
        "id": "cDCbn2zfqddb",
        "outputId": "b0949d79-4a08-4604-8986-b6f21b44704e"
      },
      "execution_count": 4,
      "outputs": [
        {
          "output_type": "stream",
          "name": "stdout",
          "text": [
            "Enter an integer n: 10\n",
            "Original list L: [-42, 72, 56, 98, -52, 92, -65, -10, -42, -28]\n",
            "------Comprehension------\n",
            "Positive numbers: [72, 56, 98, 92]\n",
            "Negative numbers: [-42, -52, -65, -10, -42, -28]\n",
            "Resulting list L1: [72, 56, 98, 92, -42, -52, -65, -10, -42, -28]\n",
            "-------Lambda------\n",
            "Positive numbers (Lambda): [72, 56, 98, 92]\n",
            "Negative numbers (Lambda): [-42, -52, -65, -10, -42, -28]\n",
            "Resulting list L2: [72, 56, 98, 92, -42, -52, -65, -10, -42, -28]\n"
          ]
        }
      ]
    },
    {
      "cell_type": "code",
      "source": [
        "L = [-5, 10, -3, -1, 7, 8, 9, 2]\n",
        "print(\"Original list:\", L)\n",
        "\n",
        "# Using list comprehensions\n",
        "print(\"------Comprehension------\")\n",
        "list_duong = [x for x in L if x > 0]\n",
        "print(\"Positive numbers:\", list_duong)\n",
        "\n",
        "list_am = [x for x in L if x < 0]\n",
        "print(\"Negative numbers:\", list_am)\n",
        "\n",
        "L1 = list_duong + list_am\n",
        "print(\"Resulting list L1:\", L1)\n",
        "\n",
        "# Using lambda functions\n",
        "print(\"-------Lambda------\")\n",
        "list_duong2 = lambda lst: [x for x in lst if x > 0]\n",
        "print(\"Positive numbers (Lambda):\", list_duong2(L))\n",
        "\n",
        "list_am2 = lambda lst: [x for x in lst if x < 0]\n",
        "print(\"Negative numbers (Lambda):\", list_am2(L))\n",
        "\n",
        "L2 = list_duong2(L) + list_am2(L)\n",
        "print(\"Resulting list L2:\", L2)\n"
      ],
      "metadata": {
        "colab": {
          "base_uri": "https://localhost:8080/"
        },
        "id": "1gzxk-rC3BYz",
        "outputId": "d64f94a9-8f00-415e-9186-4e5ab721770e"
      },
      "execution_count": 5,
      "outputs": [
        {
          "output_type": "stream",
          "name": "stdout",
          "text": [
            "Original list: [-5, 10, -3, -1, 7, 8, 9, 2]\n",
            "------Comprehension------\n",
            "Positive numbers: [10, 7, 8, 9, 2]\n",
            "Negative numbers: [-5, -3, -1]\n",
            "Resulting list L1: [10, 7, 8, 9, 2, -5, -3, -1]\n",
            "-------Lambda------\n",
            "Positive numbers (Lambda): [10, 7, 8, 9, 2]\n",
            "Negative numbers (Lambda): [-5, -3, -1]\n",
            "Resulting list L2: [10, 7, 8, 9, 2, -5, -3, -1]\n"
          ]
        }
      ]
    },
    {
      "cell_type": "code",
      "source": [
        "import random\n",
        "\n",
        "n = int(input(\"Enter an integer n: \"))\n",
        "L = [random.randint(-100, 100) for _ in range(n)]\n",
        "print(\"Original list L:\", L)\n",
        "\n",
        "# --- Using List Comprehension ---\n",
        "odd_numbers = [x for x in L if x % 2 == 1]  # List of odd numbers\n",
        "even_numbers = [x for x in L if x % 2 == 0]  # List of even numbers\n",
        "\n",
        "if len(odd_numbers) == len(L):\n",
        "    print(\"All elements are odd\")\n",
        "elif len(even_numbers) == len(L):\n",
        "    print(\"All elements are even\")\n",
        "else:\n",
        "    print(\"The list contains both odd and even numbers\")\n",
        "\n",
        "# --- Using Lambda Functions ---\n",
        "even_list = list(filter(lambda x: x % 2 == 0, L))  # Filter even numbers\n",
        "odd_list = list(filter(lambda x: x % 2 == 1, L))  # Filter odd numbers\n",
        "\n",
        "if len(odd_list) == len(L):\n",
        "    print(\"All elements are odd\")\n",
        "elif len(even_list) == len(L):\n",
        "    print(\"All elements are even\")\n",
        "else:\n",
        "    print(\"The list contains both odd and even numbers\")\n"
      ],
      "metadata": {
        "colab": {
          "base_uri": "https://localhost:8080/"
        },
        "id": "Ds1J-VR-4GpA",
        "outputId": "6bc69615-29eb-4a70-d4f8-b859359670b0"
      },
      "execution_count": 7,
      "outputs": [
        {
          "output_type": "stream",
          "name": "stdout",
          "text": [
            "Enter an integer n: 15\n",
            "Original list L: [65, 85, -31, 24, -74, 3, -15, -30, 63, 94, -79, -56, -8, -51, 19]\n",
            "The list contains both odd and even numbers\n",
            "The list contains both odd and even numbers\n"
          ]
        }
      ]
    },
    {
      "cell_type": "code",
      "source": [
        "# Exercise 151 - Using List Comprehension\n",
        "\n",
        "n = input(\"Enter a number: \")\n",
        "digits = [int(d) for d in n]  # Convert each character in the input to an integer\n",
        "\n",
        "if all(d % 2 == 0 for d in digits):\n",
        "    print(\"All digits are even\")\n",
        "elif all(d % 2 != 0 for d in digits):\n",
        "    print(\"All digits are odd\")\n",
        "else:\n",
        "    print(\"Mixed digits\")\n"
      ],
      "metadata": {
        "colab": {
          "base_uri": "https://localhost:8080/"
        },
        "id": "EVw-Epm9_trV",
        "outputId": "e99a857e-79ec-47c1-f871-a1d78a9a80a9"
      },
      "execution_count": 8,
      "outputs": [
        {
          "output_type": "stream",
          "name": "stdout",
          "text": [
            "Enter a number: 24\n",
            "All digits are even\n"
          ]
        }
      ]
    },
    {
      "cell_type": "code",
      "source": [
        "# Exercise 79 - Page 53\n",
        "import random\n",
        "\n",
        "# Generate a list of 5 random integers between 1 and 10\n",
        "L = [random.randint(1, 10) for i in range(5)]\n",
        "print(\"Original list L:\", L)\n",
        "\n",
        "# Convert the list to a set to remove duplicates\n",
        "unique_numbers = set(L)\n",
        "print(\"Unique numbers:\", unique_numbers)\n",
        "\n",
        "# Calculate and print the sum of unique numbers\n",
        "print(\"Sum of unique numbers in the list:\", sum(unique_numbers))\n"
      ],
      "metadata": {
        "colab": {
          "base_uri": "https://localhost:8080/"
        },
        "id": "w5zyQBFRAD_-",
        "outputId": "498445de-8f25-4b2f-a50c-91abccc96ac0"
      },
      "execution_count": 9,
      "outputs": [
        {
          "output_type": "stream",
          "name": "stdout",
          "text": [
            "Original list L: [3, 4, 7, 1, 10]\n",
            "Unique numbers: {1, 3, 4, 7, 10}\n",
            "Sum of unique numbers in the list: 25\n"
          ]
        }
      ]
    },
    {
      "cell_type": "code",
      "source": [
        "# Exercise 81 - Page 53\n",
        "S = input(\"Enter string S: \")\n",
        "\n",
        "# Convert the string to a set to get unique characters\n",
        "unique_chars = set(S)\n",
        "\n",
        "# Print the unique characters\n",
        "print(\"Unique characters in S:\", unique_chars)\n"
      ],
      "metadata": {
        "colab": {
          "base_uri": "https://localhost:8080/"
        },
        "id": "v0UCSh9WBjdO",
        "outputId": "a556d80e-9b81-462d-fe46-2a1a54c363c4"
      },
      "execution_count": 10,
      "outputs": [
        {
          "output_type": "stream",
          "name": "stdout",
          "text": [
            "Enter string S: Machine Learning in Material Science 2025\n",
            "Unique characters in S: {'e', 'h', 'a', 'i', 'L', 'S', 'n', 'M', ' ', 'g', '5', 'c', 't', '2', '0', 'r', 'l'}\n"
          ]
        }
      ]
    },
    {
      "cell_type": "code",
      "source": [
        "import csv\n",
        "\n",
        "def read_csv_file(filename):\n",
        "    try:\n",
        "        with open(filename, 'rt', encoding='utf8') as f:\n",
        "            csv_reader = csv.reader(f)\n",
        "\n",
        "            # Read the header row\n",
        "            header = next(csv_reader)\n",
        "            print('|', header[0].center(20), '|', header[1].center(20), '|', header[2].center(10), '|', header[3].center(13), '|')\n",
        "            print('_' * 75)\n",
        "\n",
        "            # Read and print each row\n",
        "            for row in csv_reader:\n",
        "                print('|{:<21s}'.format(row[0]), '|', '{:<20s}'.format(row[1]), '| {:>10s} | {:>13s} |'.format(row[2], row[3]))\n",
        "\n",
        "            print(f'The file contains {csv_reader.line_num - 1} rows.')\n",
        "\n",
        "    except FileNotFoundError:\n",
        "        print(f\"File not found: {filename}\")\n",
        "    else:\n",
        "        print(\"Successfully executed the function read_csv_file.\")\n",
        "\n",
        "# Replace with the correct file path\n",
        "read_csv_file('C:/Users/trant/Downloads/ProgrammingLanguage.csv')\n"
      ],
      "metadata": {
        "id": "lsUwjd7YPP6Z"
      },
      "execution_count": null,
      "outputs": []
    },
    {
      "cell_type": "code",
      "source": [
        "import csv\n",
        "\n",
        "def read_csv_file(filename):\n",
        "    \"\"\"Reads a CSV file, classifies students based on total score, and returns two lists.\"\"\"\n",
        "    try:\n",
        "        with open(filename, encoding='utf8') as f:\n",
        "            reader = csv.reader(f)\n",
        "            header = next(reader)  # Skip the header row\n",
        "\n",
        "            passed_students = []\n",
        "            failed_students = []\n",
        "\n",
        "            for row in reader:\n",
        "                total_score = sum(float(i) for i in row[2:])  # Sum of all scores\n",
        "\n",
        "                if total_score >= 20:\n",
        "                    passed_students.append(row)\n",
        "                else:\n",
        "                    failed_students.append(row)\n",
        "\n",
        "        return passed_students, failed_students\n",
        "\n",
        "    except FileNotFoundError:\n",
        "        print(f\"File not found: {filename}\")\n",
        "        return [], []\n",
        "\n",
        "def write_csv_file(filename, content, header):\n",
        "    \"\"\"Writes content to a CSV file with a header.\"\"\"\n",
        "    with open(filename, 'w', newline='', encoding='utf8') as f:\n",
        "        writer = csv.writer(f)\n",
        "        writer.writerow(header)  # Write the header\n",
        "        writer.writerows(content)\n",
        "\n",
        "    print(f'\\nContent has been successfully written to: {filename}')\n",
        "\n",
        "# Read data from the CSV file\n",
        "filename = 'D:\\\\danhsach.csv'  # Adjust file path as needed\n",
        "passed_students, failed_students = read_csv_file(filename)\n",
        "\n",
        "# Print the list of students who passed\n",
        "print('List of Passed Students (Total Score >= 20):')\n",
        "print('%25s  %5s  %5s  %5s  %5s  %s' % ('Name', 'Subject 1', 'Subject 2', 'Subject 3', 'Bonus', 'Total'))\n",
        "for row in passed_students:\n",
        "    total = sum(float(row[i]) for i in range(2, 6))\n",
        "    print('%25s   %2.1f    %2.1f    %2.1f     %2.1f    %2.1f' % (\n",
        "        row[1], float(row[2]), float(row[3]), float(row[4]), float(row[5]), total))\n",
        "\n",
        "# Print the list of students who failed\n",
        "print('\\nList of Failed Students (Total Score < 20):')\n",
        "print('%25s  %5s  %5s  %5s  %5s  %s' % ('Name', 'Subject 1', 'Subject 2', 'Subject 3', 'Bonus', 'Total'))\n",
        "for row in failed_students:\n",
        "    total = sum(float(row[i]) for i in range(2, 6))\n",
        "    print('%25s   %2.1f    %2.1f    %2.1f     %2.1f    %2.1f' % (\n",
        "        row[1], float(row[2]), float(row[3]), float(row[4]), float(row[5]), total))\n",
        "\n",
        "# Save results to separate CSV files\n",
        "header = ['ID', 'Name', 'Subject 1', 'Subject 2', 'Subject 3', 'Bonus']\n",
        "write_csv_file('PassedStudents.csv', passed_students, header)\n",
        "write_csv_file('FailedStudents.csv', failed_students, header)\n"
      ],
      "metadata": {
        "id": "Z87wTibvPTPp"
      },
      "execution_count": null,
      "outputs": []
    },
    {
      "cell_type": "code",
      "source": [
        "D = { \"name\": \"Alice\", \"age\": 25, \"city\": \"New York\" }\n",
        "\n",
        "# Access values using keys\n",
        "print(D[\"name\"])  # Output: Alice\n",
        "print(D[\"age\"])   # Output: 25"
      ],
      "metadata": {
        "id": "meFFRr8jT0kq",
        "colab": {
          "base_uri": "https://localhost:8080/"
        },
        "outputId": "5c259d09-5db8-4dfb-d472-8d59429aff93"
      },
      "execution_count": 11,
      "outputs": [
        {
          "output_type": "stream",
          "name": "stdout",
          "text": [
            "Alice\n",
            "25\n"
          ]
        }
      ]
    },
    {
      "cell_type": "code",
      "source": [
        "from collections import Counter\n",
        "\n",
        "s = input('Nhap chuoi s: ')\n",
        "D = Counter(s)  # Automatically counts occurrences\n",
        "\n",
        "for k, v in D.items():\n",
        "    print(f'{k} xuat hien {v} lan')\n",
        "\n",
        "print('Nhung ky tu xuat hien 1 lan la: ', end=' ')\n",
        "print(*[k for k, v in D.items() if v == 1])\n"
      ],
      "metadata": {
        "colab": {
          "base_uri": "https://localhost:8080/"
        },
        "id": "Us3eNJh0V0nS",
        "outputId": "2c6a8910-9c49-43ae-c438-24939ae58a1f"
      },
      "execution_count": 12,
      "outputs": [
        {
          "output_type": "stream",
          "name": "stdout",
          "text": [
            "Nhap chuoi s: material science 2025\n",
            "m xuat hien 1 lan\n",
            "a xuat hien 2 lan\n",
            "t xuat hien 1 lan\n",
            "e xuat hien 3 lan\n",
            "r xuat hien 1 lan\n",
            "i xuat hien 2 lan\n",
            "l xuat hien 1 lan\n",
            "  xuat hien 2 lan\n",
            "s xuat hien 1 lan\n",
            "c xuat hien 2 lan\n",
            "n xuat hien 1 lan\n",
            "2 xuat hien 2 lan\n",
            "0 xuat hien 1 lan\n",
            "5 xuat hien 1 lan\n",
            "Nhung ky tu xuat hien 1 lan la:  m t r l s n 0 5\n"
          ]
        }
      ]
    },
    {
      "cell_type": "code",
      "source": [
        "\n"
      ],
      "metadata": {
        "id": "3lA-VgYbXsNP"
      },
      "execution_count": null,
      "outputs": []
    }
  ]
}