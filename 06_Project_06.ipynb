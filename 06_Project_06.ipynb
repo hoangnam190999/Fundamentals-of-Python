{
  "nbformat": 4,
  "nbformat_minor": 0,
  "metadata": {
    "colab": {
      "provenance": []
    },
    "kernelspec": {
      "name": "python3",
      "display_name": "Python 3"
    },
    "language_info": {
      "name": "python"
    }
  },
  "cells": [
    {
      "cell_type": "code",
      "execution_count": 2,
      "metadata": {
        "id": "P8TZGcP6I1uU",
        "colab": {
          "base_uri": "https://localhost:8080/"
        },
        "outputId": "1c48cb94-2e60-4113-c64e-cb2ffab8e117"
      },
      "outputs": [
        {
          "output_type": "stream",
          "name": "stdout",
          "text": [
            "Enter n: 5\n",
            "Method 1: The sum of numbers from 1 to 5 is 15\n",
            "Method 2: The sum of numbers from 1 to 5 is 15\n"
          ]
        }
      ],
      "source": [
        "# Input: Get the value of n from the user\n",
        "n = int(input(\"Enter n: \"))\n",
        "\n",
        "# Method 1: Using a for loop\n",
        "total = 0\n",
        "for i in range(1, n + 1):  # Start from 1 instead of 0\n",
        "    total += i\n",
        "print(f'Method 1: The sum of numbers from 1 to {n} is {total}')\n",
        "\n",
        "# Method 2: Using the sum() function\n",
        "total2 = sum(i for i in range(1, n + 1))  # Start from 1 instead of 0\n",
        "print(f'Method 2: The sum of numbers from 1 to {n} is {total2}')\n"
      ]
    },
    {
      "cell_type": "code",
      "source": [
        "# Input: Get the value of n from the user\n",
        "n = int(input(\"Enter n: \"))\n",
        "\n",
        "# Method 1: Using a for loop\n",
        "total = 0\n",
        "for i in range(n + 1):  # No need to start from 0 explicitly\n",
        "    total += (2 * i) + 1\n",
        "print(f'Method 1: The sum of odd numbers from 1 to {(2 * n) + 1} is {total}')\n",
        "\n",
        "# Method 2: Using the sum() function\n",
        "total2 = sum((2 * i) + 1 for i in range(n + 1))\n",
        "print(f'Method 2: The sum of odd numbers from 1 to {(2 * n) + 1} is {total2}')\n"
      ],
      "metadata": {
        "colab": {
          "base_uri": "https://localhost:8080/"
        },
        "id": "QKnH8DJhcKJ9",
        "outputId": "53665093-712c-4601-fe0c-f0ea59a19f44"
      },
      "execution_count": 3,
      "outputs": [
        {
          "output_type": "stream",
          "name": "stdout",
          "text": [
            "Enter n: 6\n",
            "Method 1: The sum of odd numbers from 1 to 13 is 49\n",
            "Method 2: The sum of odd numbers from 1 to 13 is 49\n"
          ]
        }
      ]
    },
    {
      "cell_type": "code",
      "source": [
        "# Input: Get the value of n from the user\n",
        "n = int(input(\"Enter n: \"))\n",
        "\n",
        "# Method 1: Using a for loop\n",
        "total = 0\n",
        "for i in range(1, n + 1):  # Start from 1 to avoid division by zero\n",
        "    total += 1 / i\n",
        "print(f'Method 1: The sum of the series from 1 to 1/{n} is {total:.6f}')\n",
        "\n",
        "# Method 2: Using the sum() function with list comprehension\n",
        "total2 = sum(1 / i for i in range(1, n + 1))  # Corrected denominator\n",
        "print(f'Method 2: The sum of the series from 1 to 1/{n} is {total2:.6f}')\n"
      ],
      "metadata": {
        "colab": {
          "base_uri": "https://localhost:8080/"
        },
        "id": "fhDjEQ7udxxh",
        "outputId": "74f885fc-777c-4910-a507-c6e050d7d7c8"
      },
      "execution_count": 4,
      "outputs": [
        {
          "output_type": "stream",
          "name": "stdout",
          "text": [
            "Enter n: 6\n",
            "Method 1: The sum of the series from 1 to 1/6 is 2.450000\n",
            "Method 2: The sum of the series from 1 to 1/6 is 2.450000\n"
          ]
        }
      ]
    },
    {
      "cell_type": "code",
      "source": [
        "# Input: Get the value of n from the user\n",
        "n = int(input(\"Enter n: \"))\n",
        "\n",
        "# Method 1: Using a for loop\n",
        "total = 0\n",
        "for i in range(1, n + 1):\n",
        "    total += i / (i * (i + 1))\n",
        "print(f'Method 1: The sum of the series from 1/(1×2) to {n}/({n}×{n+1}) is {total:.6f}')\n",
        "\n",
        "# Method 2: Using the sum() function with list comprehension\n",
        "total2 = sum(i / (i * (i + 1)) for i in range(1, n + 1))\n",
        "print(f'Method 2: The sum of the series from 1/(1×2) to {n}/({n}×{n+1}) is {total2:.6f}')\n"
      ],
      "metadata": {
        "colab": {
          "base_uri": "https://localhost:8080/"
        },
        "id": "_pT0HNMFfTqw",
        "outputId": "813bbb72-494e-497e-b2c1-b2fc2f0c6d9c"
      },
      "execution_count": 5,
      "outputs": [
        {
          "output_type": "stream",
          "name": "stdout",
          "text": [
            "Enter n: 5\n",
            "Method 1: The sum of the series from 1/(1×2) to 5/(5×6) is 1.450000\n",
            "Method 2: The sum of the series from 1/(1×2) to 5/(5×6) is 1.450000\n"
          ]
        }
      ]
    },
    {
      "cell_type": "code",
      "source": [
        "# Input: Get the integer n from the user\n",
        "n = int(input(\"Enter n: \"))  # Example: n = 795\n",
        "\n",
        "# Method: Convert the number to a string and count the digits\n",
        "digit_count = sum(1 for digit in str(n))  # str(n) = '795'\n",
        "\n",
        "# Output: Display the number of digits\n",
        "print(f'The number of digits in {n} is {digit_count}')\n",
        "\n",
        "# Alternative one-liner (prints directly)\n",
        "# print(sum(1 for digit in str(n)))\n"
      ],
      "metadata": {
        "id": "5M05-gO9jfik",
        "colab": {
          "base_uri": "https://localhost:8080/"
        },
        "outputId": "3178dc48-b0b1-4a73-b16f-6d6642caa30c"
      },
      "execution_count": 7,
      "outputs": [
        {
          "output_type": "stream",
          "name": "stdout",
          "text": [
            "Enter n: 87554\n",
            "The number of digits in 87554 is 5\n"
          ]
        }
      ]
    },
    {
      "cell_type": "code",
      "source": [
        "import math\n",
        "\n",
        "# Input: Get an integer from the user\n",
        "n = int(input(\"Enter an integer: \"))\n",
        "\n",
        "# Calculate the sum of even and odd numbers from 1 to n\n",
        "sum_even = sum(x for x in range(1, n + 1) if x % 2 == 0)\n",
        "sum_odd = sum(x for x in range(1, n + 1) if x % 2 != 0)\n",
        "\n",
        "# Output: Print the sums\n",
        "print(f\"Sum of even numbers: {sum_even}\")\n",
        "print(f\"Sum of odd numbers: {sum_odd}\")\n",
        "\n",
        "# Calculate the product of even and odd numbers from 1 to n\n",
        "product_even = math.prod(x for x in range(1, n + 1) if x % 2 == 0)\n",
        "product_odd = math.prod(x for x in range(1, n + 1) if x % 2 != 0)\n",
        "\n",
        "# Output: Print the products\n",
        "print(f\"Product of even numbers: {product_even}\")\n",
        "print(f\"Product of odd numbers: {product_odd}\")\n"
      ],
      "metadata": {
        "colab": {
          "base_uri": "https://localhost:8080/"
        },
        "id": "TDZWJzWioZ1T",
        "outputId": "578aab12-7e8a-41aa-a8e3-7d106bf7b4f2"
      },
      "execution_count": 9,
      "outputs": [
        {
          "output_type": "stream",
          "name": "stdout",
          "text": [
            "Enter an integer: 453\n",
            "Sum of even numbers: 51302\n",
            "Sum of odd numbers: 51529\n",
            "Product of even numbers: 306928805330091621342927899199289757324634497468063972644647527174855326643439910984019972759833838555021853405861845209720168962325154728691801955491649308336653240254587389427248795927031993838703746050968646022721253506341899880395697392949186695264235112486529793489386991603109992395655231576342492425221243436791938558208708425348761994834879806110910805431549776024948781246386940688955217369487106001207175930245143229043416435648813837844480000000000000000000000000000000000000000000000000000000\n",
            "Product of odd numbers: 5215146203658343483947384412707053986043954369327071404212661145614108694085153978205644317336150542906146223350919045342033730715829816909299387645314828643052670522598551753735853387315930093249706227261268112306940015141147916027063807869546851818259896954897115979023662524059629598784085023273799307400010652880677944503124533065660743313848872204823897867741805072788074301847826732340473562847392656163580828642223540445140712734978477353123780831779549200065415615057418108335696160793304443359375\n"
          ]
        }
      ]
    },
    {
      "cell_type": "code",
      "source": [
        "# Input: Get an integer from the user\n",
        "n = int(input(\"Enter an integer: \"))\n",
        "\n",
        "# Define a lambda function to calculate the absolute value\n",
        "absolute_value = lambda x: abs(x)\n",
        "\n",
        "# Output: Print the absolute value\n",
        "print(f'The absolute value of {n} is {absolute_value(n)}')\n"
      ],
      "metadata": {
        "id": "2tK67DNspLNB",
        "colab": {
          "base_uri": "https://localhost:8080/"
        },
        "outputId": "dc25c3b9-674f-4c3a-96ec-708a284cc5c7"
      },
      "execution_count": 10,
      "outputs": [
        {
          "output_type": "stream",
          "name": "stdout",
          "text": [
            "Enter an integer: 2\n",
            "The absolute value of 2 is 2\n"
          ]
        }
      ]
    },
    {
      "cell_type": "code",
      "source": [
        "# Define a lambda function for the given mathematical expression\n",
        "calculate = lambda x: (3 * x + 2) / (2 * x - 1)\n",
        "\n",
        "# Print the result for x = 2, formatted to 2 decimal places\n",
        "print(f'{calculate(2):.2f}')\n"
      ],
      "metadata": {
        "colab": {
          "base_uri": "https://localhost:8080/"
        },
        "id": "ilUWh9_GtcGe",
        "outputId": "0b960d54-094c-4882-d141-c4cbeffd210f"
      },
      "execution_count": 11,
      "outputs": [
        {
          "output_type": "stream",
          "name": "stdout",
          "text": [
            "2.67\n"
          ]
        }
      ]
    },
    {
      "cell_type": "code",
      "source": [
        "# Get an integer input from the user\n",
        "n = int(input(\"Enter an integer n: \"))\n",
        "\n",
        "# Define a lambda function to add 15 to n\n",
        "calculate = lambda n: n + 15\n",
        "\n",
        "# Print the result\n",
        "print(f'The sum of {n} + 15 is {calculate(n)}')\n",
        "\n",
        "# Alternative one-line print statement:\n",
        "# print(f\"The sum of {n} + 15 is {calculate(int(input('Enter an integer n: ')))}\")\n"
      ],
      "metadata": {
        "colab": {
          "base_uri": "https://localhost:8080/"
        },
        "id": "ccrzqQSIuoeC",
        "outputId": "6c224e83-bc01-431f-a42e-20cfac87631d"
      },
      "execution_count": 12,
      "outputs": [
        {
          "output_type": "stream",
          "name": "stdout",
          "text": [
            "Enter an integer n: 5\n",
            "The sum of 5 + 15 is 20\n"
          ]
        }
      ]
    },
    {
      "cell_type": "code",
      "source": [
        "# Get two integers from the user, separated by a space\n",
        "x, y = map(int, input(\"Enter two numbers x and y separated by a space: \").split())\n",
        "\n",
        "# Define a lambda function to calculate the product\n",
        "multiply = lambda x, y: x * y\n",
        "\n",
        "# Print the result\n",
        "print(f\"The product of {x} and {y} is {multiply(x, y)}\")\n"
      ],
      "metadata": {
        "id": "xVnwgtpFu9Wm",
        "colab": {
          "base_uri": "https://localhost:8080/"
        },
        "outputId": "8b59e04f-3235-4f98-c262-ab8ab7013adb"
      },
      "execution_count": 13,
      "outputs": [
        {
          "output_type": "stream",
          "name": "stdout",
          "text": [
            "Enter two numbers x and y separated by a space: 2 10\n",
            "The product of 2 and 10 is 20\n"
          ]
        }
      ]
    },
    {
      "cell_type": "code",
      "source": [
        "# Get input values from the user\n",
        "x = int(input(\"Enter the starting number (x): \"))\n",
        "y = int(input(\"Enter the ending number (y): \"))\n",
        "\n",
        "# Lambda function to calculate the sum of numbers from x to y\n",
        "sum_range = lambda x, y: sum(i for i in range(x, y + 1))\n",
        "\n",
        "# Print the result\n",
        "print(f\"The sum of numbers from {x} to {y} is: {sum_range(x, y)}\")\n"
      ],
      "metadata": {
        "colab": {
          "base_uri": "https://localhost:8080/"
        },
        "id": "SaLbS_DgbIU5",
        "outputId": "2874f765-2bb1-4bef-81cb-e181567a3e23"
      },
      "execution_count": 14,
      "outputs": [
        {
          "output_type": "stream",
          "name": "stdout",
          "text": [
            "Enter the starting number (x): 5\n",
            "Enter the ending number (y): 9\n",
            "The sum of numbers from 5 to 9 is: 35\n"
          ]
        }
      ]
    }
  ]
}