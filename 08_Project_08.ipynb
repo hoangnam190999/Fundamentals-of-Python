{
  "cells": [
    {
      "cell_type": "code",
      "execution_count": 1,
      "metadata": {
        "id": "-o45pWEIyZpa",
        "colab": {
          "base_uri": "https://localhost:8080/"
        },
        "outputId": "6f1beffc-b759-4d91-ec7d-999d37f272d0"
      },
      "outputs": [
        {
          "output_type": "stream",
          "name": "stdout",
          "text": [
            "Khát vọng\n",
            "Hãy sống như đời sống để biết yêu nguồn cội. \n",
            "Hãy sống như đổi núi, vươn tới những tầm cao. \n",
            "Hãy sống như biển trào, như biển trào để thấy bờ bến rộng. \n",
            "Hãy sống như ước vọng để thấy đời mênh mông. \n",
            "Và sao không là gió, là mây để thấy trời bao la. \n",
            "Và sao không là phù sa dâng mỡ màu cho hoa. \n",
            "Sao không là bài ca của tình yêu đôi lứa. \n",
            "Sao không là mặt trời gieo hạt nắng vô tư. \n",
            "Và sao không là bão, là giông, là ánh lửa đêm đông. \n",
            "Và sao không là hạt giống xanh đất mẹ bao dung. \n",
            "Sao không là đàn chim gọi bình minh thức giấc. \n",
            "Sao không là mặt trời gieo hạt nắng vô tư. \n",
            "Phạm Minh Tuấn\n"
          ]
        }
      ],
      "source": [
        "def process_text(S):\n",
        "    \"\"\"\n",
        "    Cleans and formats the given text by:\n",
        "    - Removing extra spaces at the beginning and end\n",
        "    - Adding a space after commas and periods if missing\n",
        "    - Ensuring words before punctuation marks are directly attached to them\n",
        "    - Replacing multiple spaces with a single space\n",
        "    - Removing extra spaces after line breaks\n",
        "    \"\"\"\n",
        "    # Trim leading and trailing whitespace\n",
        "    S = S.strip()\n",
        "\n",
        "    # Add a space after commas if missing\n",
        "    index = 0\n",
        "    while True:\n",
        "        index = S.find(',', index + 1, len(S))\n",
        "        if index >= 0:\n",
        "            S = S[:index+1] + ' ' + S[index+1:]\n",
        "            index += 1\n",
        "        else:\n",
        "            break\n",
        "\n",
        "    # Add a space after periods if missing\n",
        "    index = 0\n",
        "    while True:\n",
        "        index = S.find('.', index + 1, len(S))\n",
        "        if index >= 0:\n",
        "            S = S[:index+1] + ' ' + S[index+1:]\n",
        "            index += 1\n",
        "        else:\n",
        "            break\n",
        "\n",
        "    # Ensure no space before commas or periods\n",
        "    while ' ,' in S:\n",
        "        S = S.replace(' ,', ',')\n",
        "    while ' .' in S:\n",
        "        S = S.replace(' .', '.')\n",
        "\n",
        "    # Ensure only one space between words\n",
        "    while '  ' in S:\n",
        "        S = S.replace('  ', ' ')\n",
        "\n",
        "    # Remove extra spaces after new lines\n",
        "    while '\\n ' in S:\n",
        "        S = S.replace('\\n ', '\\n')\n",
        "\n",
        "    return S\n",
        "\n",
        "# ---- Example Text ----\n",
        "text = '''     Khát vọng\n",
        "   Hãy sống như đời sống để biết yêu nguồn cội  .\n",
        "Hãy sống như đổi núi   ,  vươn tới những  tầm cao.\n",
        "  Hãy  sống   như  biển trào,như biển trào để thấy bờ bến rộng .\n",
        "Hãy sống như ước vọng  để   thấy đời mênh mông.\n",
        "Và sao  không    là gió,    là mây để thấy trời bao la  .\n",
        "Và sao không là phù sa dâng mỡ màu cho hoa.\n",
        " Sao không là bài ca của tình yêu đôi lứa.\n",
        "Sao không là mặt trời gieo hạt nắng vô tư.\n",
        "Và sao  không là bão ,   là giông  ,là ánh lửa đêm đông     .\n",
        "     Và sao không là hạt giống xanh đất mẹ bao dung.\n",
        "Sao không là đàn    chim gọi bình minh thức giấc  .\n",
        " Sao không là  mặt trời gieo hạt nắng vô tư.\n",
        "     Phạm Minh Tuấn    '''\n",
        "\n",
        "# Process and print the formatted text\n",
        "text = process_text(text)\n",
        "print(text)\n"
      ]
    },
    {
      "cell_type": "code",
      "execution_count": 2,
      "metadata": {
        "id": "XMiTvbUy0EFS",
        "colab": {
          "base_uri": "https://localhost:8080/"
        },
        "outputId": "82524529-c626-42b9-9d47-233259f323fd"
      },
      "outputs": [
        {
          "output_type": "stream",
          "name": "stdout",
          "text": [
            "Using the `type()` function:\n",
            "Type of item 1452 is integer\n",
            "Type of item 11.23 is float\n",
            "Type of item (1+2j) is complex\n",
            "Type of item True is boolean\n",
            "Type of item w3resource is string\n",
            "Type of item (0, -1) is tuple\n",
            "Type of item [5, 12] is list\n",
            "Type of item {'class': 'V', 'section': 'A'} is dictionary\n",
            "Type of item {9, 3.14, 'python'} is set\n",
            "\n",
            "Using the `isinstance()` function:\n",
            "Type of item 1452 is integer\n",
            "Type of item 11.23 is float\n",
            "Type of item (1+2j) is complex\n",
            "Type of item True is integer\n",
            "Type of item w3resource is string\n",
            "Type of item (0, -1) is tuple\n",
            "Type of item [5, 12] is list\n",
            "Type of item {'class': 'V', 'section': 'A'} is dictionary\n",
            "Type of item {9, 3.14, 'python'} is set\n"
          ]
        }
      ],
      "source": [
        "# Bai1_Tr33\n",
        "L = [1452, 11.23, 1 + 2j, True, 'w3resource', (0, -1), [5, 12],\n",
        "     {\"class\": 'V', \"section\": 'A'}, {3.14, 9, \"python\"}]\n",
        "\n",
        "print(\"Using the `type()` function:\")\n",
        "for item in L:\n",
        "    if type(item) == int:\n",
        "        print(f'Type of item {item} is integer')\n",
        "    elif type(item) == float:\n",
        "        print(f'Type of item {item} is float')\n",
        "    elif type(item) == complex:\n",
        "        print(f'Type of item {item} is complex')\n",
        "    elif type(item) == list:\n",
        "        print(f'Type of item {item} is list')\n",
        "    elif type(item) == dict:\n",
        "        print(f'Type of item {item} is dictionary')\n",
        "    elif type(item) == set:\n",
        "        print(f'Type of item {item} is set')\n",
        "    elif type(item) == tuple:\n",
        "        print(f'Type of item {item} is tuple')\n",
        "    elif type(item) == bool:  # Boolean type: True or False\n",
        "        print(f'Type of item {item} is boolean')\n",
        "    elif type(item) == str:\n",
        "        print(f'Type of item {item} is string')\n",
        "    else:\n",
        "        print(f'Type of item {item} is unknown')\n",
        "\n",
        "print(\"\\nUsing the `isinstance()` function:\")\n",
        "for item in L:\n",
        "    if isinstance(item, int):\n",
        "        print(f'Type of item {item} is integer')\n",
        "    elif isinstance(item, float):\n",
        "        print(f'Type of item {item} is float')\n",
        "    elif isinstance(item, complex):\n",
        "        print(f'Type of item {item} is complex')\n",
        "    elif isinstance(item, list):\n",
        "        print(f'Type of item {item} is list')\n",
        "    elif isinstance(item, dict):\n",
        "        print(f'Type of item {item} is dictionary')\n",
        "    elif isinstance(item, set):\n",
        "        print(f'Type of item {item} is set')\n",
        "    elif isinstance(item, tuple):\n",
        "        print(f'Type of item {item} is tuple')\n",
        "    elif isinstance(item, bool):  # Boolean type: True or False\n",
        "        print(f'Type of item {item} is boolean')\n",
        "    elif isinstance(item, str):\n",
        "        print(f'Type of item {item} is string')\n",
        "    else:\n",
        "        print(f'Type of item {item} is unknown')\n"
      ]
    },
    {
      "cell_type": "code",
      "source": [
        "# Get input from the user\n",
        "S = input(\"Enter numbers separated by commas: \")\n",
        "L = list(map(int, S.split(',')))  # Convert input into a list of integers\n",
        "print(L)\n",
        "\n",
        "import math\n",
        "\n",
        "# Initialize sum and product\n",
        "total = 0\n",
        "product = 1\n",
        "\n",
        "# Calculate sum and product manually\n",
        "for i in L:\n",
        "    total += i\n",
        "    product *= i\n",
        "\n",
        "# Method 1: Calculate sum and product\n",
        "print(f\"bC1: The sum of the elements in the list is: {total}\")\n",
        "print(f\"cC1: The product of the elements in the list is: {product}\")\n",
        "\n",
        "# Method 2: Using built-in functions\n",
        "print(f\"bC2: The sum of the elements in the list is: {sum(L)}\")\n",
        "print(f\"cC2: The product of the elements in the list is: {math.prod(L)}\")\n",
        "\n",
        "# Finding the largest element - Method 1 (Incorrect logic in original, now fixed)\n",
        "max_value = L[0]  # Start with the first element in the list\n",
        "for i in L:\n",
        "    if i > max_value:\n",
        "        max_value = i\n",
        "print(f\"d: The largest element in the list is: {max_value}\")\n",
        "\n",
        "# Method 2: Using built-in function\n",
        "print(f\"d: The largest element in the list is: {max(L)}\")\n"
      ],
      "metadata": {
        "colab": {
          "base_uri": "https://localhost:8080/"
        },
        "id": "WUTQuijb_XYq",
        "outputId": "d2376e28-2d7a-45d3-aa62-a64600280b41"
      },
      "execution_count": 3,
      "outputs": [
        {
          "output_type": "stream",
          "name": "stdout",
          "text": [
            "Enter numbers separated by commas: 3,2,1\n",
            "[3, 2, 1]\n",
            "bC1: The sum of the elements in the list is: 6\n",
            "cC1: The product of the elements in the list is: 6\n",
            "bC2: The sum of the elements in the list is: 6\n",
            "cC2: The product of the elements in the list is: 6\n",
            "d: The largest element in the list is: 3\n",
            "d: The largest element in the list is: 3\n"
          ]
        }
      ]
    },
    {
      "cell_type": "code",
      "source": [
        "# Get input from the user\n",
        "S = input(\"Enter numbers separated by commas: \")\n",
        "L = list(map(int, S.split(',')))  # Convert input into a list of integers\n",
        "print(L)\n",
        "\n",
        "import math\n",
        "\n",
        "# Method 1: Calculate product using a loop\n",
        "product = 1\n",
        "for i in L:\n",
        "    product *= i\n",
        "print(f\"Method 1: The product of the elements in the list is: {product}\")\n",
        "\n",
        "# Method 2: Using the built-in math.prod() function\n",
        "print(f\"Method 2: The product of the elements in the list is: {math.prod(L)}\")\n"
      ],
      "metadata": {
        "colab": {
          "base_uri": "https://localhost:8080/"
        },
        "id": "opVRL043DRjJ",
        "outputId": "0b5fbff1-5f1b-47ab-d599-1b03ae57cd59"
      },
      "execution_count": 4,
      "outputs": [
        {
          "output_type": "stream",
          "name": "stdout",
          "text": [
            "Enter numbers separated by commas: 1,2,3,4,5,6,7,8,9\n",
            "[1, 2, 3, 4, 5, 6, 7, 8, 9]\n",
            "Method 1: The product of the elements in the list is: 362880\n",
            "Method 2: The product of the elements in the list is: 362880\n"
          ]
        }
      ]
    },
    {
      "cell_type": "code",
      "source": [
        "# Get input from the user\n",
        "S = input(\"Enter numbers separated by commas: \")\n",
        "L = list(map(int, S.split(',')))  # Convert input into a list of integers\n",
        "print(f\"Initial list: {L}\")\n",
        "\n",
        "# Part b: Find numbers less than 5\n",
        "print(\"Part b - Method 1:\")\n",
        "for i in L:\n",
        "    if i < 5:\n",
        "        print(i)\n",
        "\n",
        "print(\"Part b - Method 2:\")\n",
        "L2 = [i for i in L if i < 5]\n",
        "print(\"Method 2: Numbers less than 5 are:\", L2)\n",
        "print(\"\\n\")\n",
        "\n",
        "# Part c: Another way to find numbers less than 5\n",
        "list2 = []\n",
        "for i in L:\n",
        "    if i < 5:\n",
        "        list2.append(i)\n",
        "print(list2)\n",
        "print(\"\\n\")\n",
        "\n",
        "# Part d: Find multiples of a given number m\n",
        "m = int(input(\"Enter an integer m: \"))  # Example: 5\n",
        "list3 = [i for i in L if i % m == 0]\n",
        "print(f\"Numbers that are multiples of {m}: {list3}\")\n",
        "print(\"\\n\")\n",
        "\n",
        "# Part e: Calculate the percentage of positive, negative, and zero numbers\n",
        "total_numbers = len(L)\n",
        "positive_percentage = len([i for i in L if i > 0]) / total_numbers * 100\n",
        "negative_percentage = len([i for i in L if i < 0]) / total_numbers * 100\n",
        "zero_percentage = len([i for i in L if i == 0]) / total_numbers * 100\n",
        "\n",
        "print(f\"Positive numbers: {positive_percentage:.2f}%\")\n",
        "print(f\"Negative numbers: {negative_percentage:.2f}%\")\n",
        "print(f\"Zero numbers: {zero_percentage:.2f}%\")\n"
      ],
      "metadata": {
        "colab": {
          "base_uri": "https://localhost:8080/"
        },
        "id": "SrioVkfpJNn1",
        "outputId": "762a7a61-4702-4078-a571-09404845622e"
      },
      "execution_count": 5,
      "outputs": [
        {
          "output_type": "stream",
          "name": "stdout",
          "text": [
            "Enter numbers separated by commas: -1,2,3,-5,6,-9,10\n",
            "Initial list: [-1, 2, 3, -5, 6, -9, 10]\n",
            "Part b - Method 1:\n",
            "-1\n",
            "2\n",
            "3\n",
            "-5\n",
            "-9\n",
            "Part b - Method 2:\n",
            "Method 2: Numbers less than 5 are: [-1, 2, 3, -5, -9]\n",
            "\n",
            "\n",
            "[-1, 2, 3, -5, -9]\n",
            "\n",
            "\n",
            "Enter an integer m: 1\n",
            "Numbers that are multiples of 1: [-1, 2, 3, -5, 6, -9, 10]\n",
            "\n",
            "\n",
            "Positive numbers: 57.14%\n",
            "Negative numbers: 42.86%\n",
            "Zero numbers: 0.00%\n"
          ]
        }
      ]
    }
  ],
  "metadata": {
    "colab": {
      "provenance": []
    },
    "kernelspec": {
      "display_name": "Python 3",
      "name": "python3"
    },
    "language_info": {
      "name": "python"
    }
  },
  "nbformat": 4,
  "nbformat_minor": 0
}